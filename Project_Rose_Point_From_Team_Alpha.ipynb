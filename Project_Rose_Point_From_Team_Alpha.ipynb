{
  "nbformat": 4,
  "nbformat_minor": 0,
  "metadata": {
    "colab": {
      "name": "Project Rose Point From Team Alpha.ipynb",
      "provenance": [],
      "collapsed_sections": [],
      "authorship_tag": "ABX9TyMOJ0QP8oWs51dwY/fqSgHa",
      "include_colab_link": true
    },
    "kernelspec": {
      "name": "python3",
      "display_name": "Python 3"
    },
    "language_info": {
      "name": "python"
    }
  },
  "cells": [
    {
      "cell_type": "markdown",
      "metadata": {
        "id": "view-in-github",
        "colab_type": "text"
      },
      "source": [
        "<a href=\"https://colab.research.google.com/github/iamjahirulislam/Alpha/blob/main/Project_Rose_Point_From_Team_Alpha.ipynb\" target=\"_parent\"><img src=\"https://colab.research.google.com/assets/colab-badge.svg\" alt=\"Open In Colab\"/></a>"
      ]
    },
    {
      "cell_type": "markdown",
      "metadata": {
        "id": "UFxoYrgR9KkA"
      },
      "source": [
        "![images.jpg](data:image/jpeg;base64,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)"
      ]
    },
    {
      "cell_type": "markdown",
      "metadata": {
        "id": "PxASkdv29POx"
      },
      "source": [
        "#**Project Rose Point**"
      ]
    },
    {
      "cell_type": "code",
      "metadata": {
        "colab": {
          "base_uri": "https://localhost:8080/"
        },
        "id": "RWJzgc2x9TvL",
        "outputId": "e627599e-0245-4c30-9ad8-bc2cf50acb72"
      },
      "source": [
        "from google.colab import drive\n",
        "drive.mount('/content/gdrive')\n"
      ],
      "execution_count": 682,
      "outputs": [
        {
          "output_type": "stream",
          "text": [
            "Drive already mounted at /content/gdrive; to attempt to forcibly remount, call drive.mount(\"/content/gdrive\", force_remount=True).\n"
          ],
          "name": "stdout"
        }
      ]
    },
    {
      "cell_type": "code",
      "metadata": {
        "id": "zKsKRlv79osm"
      },
      "source": [
        "import pandas as pd"
      ],
      "execution_count": 683,
      "outputs": []
    },
    {
      "cell_type": "code",
      "metadata": {
        "id": "9Q_JF3tMpD2L"
      },
      "source": [
        "rose = pd.read_csv('gdrive/My Drive/Colab Notebooks/Team_Alpha/alpha.csv')"
      ],
      "execution_count": 684,
      "outputs": []
    },
    {
      "cell_type": "code",
      "metadata": {
        "id": "OffFV-ds-t2G",
        "colab": {
          "base_uri": "https://localhost:8080/",
          "height": 315
        },
        "outputId": "348a3998-584c-428e-8d62-bd0bd6fb82b5"
      },
      "source": [
        "rose.head()"
      ],
      "execution_count": 685,
      "outputs": [
        {
          "output_type": "execute_result",
          "data": {
            "text/html": [
              "<div>\n",
              "<style scoped>\n",
              "    .dataframe tbody tr th:only-of-type {\n",
              "        vertical-align: middle;\n",
              "    }\n",
              "\n",
              "    .dataframe tbody tr th {\n",
              "        vertical-align: top;\n",
              "    }\n",
              "\n",
              "    .dataframe thead th {\n",
              "        text-align: right;\n",
              "    }\n",
              "</style>\n",
              "<table border=\"1\" class=\"dataframe\">\n",
              "  <thead>\n",
              "    <tr style=\"text-align: right;\">\n",
              "      <th></th>\n",
              "      <th>Name</th>\n",
              "      <th>Email</th>\n",
              "      <th>Age</th>\n",
              "      <th>Sex</th>\n",
              "      <th>Address</th>\n",
              "      <th>Sim_Company</th>\n",
              "      <th>Marital_Status</th>\n",
              "      <th>Religion</th>\n",
              "      <th>Occupation</th>\n",
              "      <th>Preference</th>\n",
              "      <th>Favourite_Flower</th>\n",
              "      <th>Comments</th>\n",
              "    </tr>\n",
              "  </thead>\n",
              "  <tbody>\n",
              "    <tr>\n",
              "      <th>0</th>\n",
              "      <td>Jahirul Islam</td>\n",
              "      <td>jahirul15-2752@diu.edu.bd</td>\n",
              "      <td>23.0</td>\n",
              "      <td>Male</td>\n",
              "      <td>Towns</td>\n",
              "      <td>Banglalink</td>\n",
              "      <td>Single</td>\n",
              "      <td>Islam</td>\n",
              "      <td>Student</td>\n",
              "      <td>Yes</td>\n",
              "      <td>Zinnia</td>\n",
              "      <td>Go Ahead</td>\n",
              "    </tr>\n",
              "    <tr>\n",
              "      <th>1</th>\n",
              "      <td>Asif</td>\n",
              "      <td>asif15-2750@diu.edu.bd</td>\n",
              "      <td>22.0</td>\n",
              "      <td>Male</td>\n",
              "      <td>Major City</td>\n",
              "      <td>Grameenphone</td>\n",
              "      <td>Single</td>\n",
              "      <td>Islam</td>\n",
              "      <td>Student</td>\n",
              "      <td>Yes</td>\n",
              "      <td>Red Rose</td>\n",
              "      <td>NaN</td>\n",
              "    </tr>\n",
              "    <tr>\n",
              "      <th>2</th>\n",
              "      <td>Tasrin Jahan Mishu</td>\n",
              "      <td>tasrin15-2706@diu.edu.bd</td>\n",
              "      <td>21.0</td>\n",
              "      <td>Female</td>\n",
              "      <td>Towns</td>\n",
              "      <td>Grameenphone</td>\n",
              "      <td>Single</td>\n",
              "      <td>Islam</td>\n",
              "      <td>Student</td>\n",
              "      <td>Yes</td>\n",
              "      <td>White daisy</td>\n",
              "      <td>It was interesting</td>\n",
              "    </tr>\n",
              "    <tr>\n",
              "      <th>3</th>\n",
              "      <td>Nadia Rahman</td>\n",
              "      <td>nadia15-2763@diu.edu.bd</td>\n",
              "      <td>21.0</td>\n",
              "      <td>Female</td>\n",
              "      <td>Urban Area</td>\n",
              "      <td>Grameenphone</td>\n",
              "      <td>Single</td>\n",
              "      <td>Islam</td>\n",
              "      <td>Student</td>\n",
              "      <td>No</td>\n",
              "      <td>I Don't like flower</td>\n",
              "      <td>Thank you</td>\n",
              "    </tr>\n",
              "    <tr>\n",
              "      <th>4</th>\n",
              "      <td>Fatima yesmin</td>\n",
              "      <td>fatima15-1850@diu.edu.bd</td>\n",
              "      <td>22.0</td>\n",
              "      <td>Female</td>\n",
              "      <td>City</td>\n",
              "      <td>Grameenphone</td>\n",
              "      <td>Single</td>\n",
              "      <td>Islam</td>\n",
              "      <td>Student</td>\n",
              "      <td>Yes</td>\n",
              "      <td>Red Rose</td>\n",
              "      <td>Not yet</td>\n",
              "    </tr>\n",
              "  </tbody>\n",
              "</table>\n",
              "</div>"
            ],
            "text/plain": [
              "                  Name  ...             Comments\n",
              "0        Jahirul Islam  ...             Go Ahead\n",
              "1                 Asif  ...                  NaN\n",
              "2  Tasrin Jahan Mishu   ...  It was interesting \n",
              "3         Nadia Rahman  ...            Thank you\n",
              "4        Fatima yesmin  ...              Not yet\n",
              "\n",
              "[5 rows x 12 columns]"
            ]
          },
          "metadata": {
            "tags": []
          },
          "execution_count": 685
        }
      ]
    },
    {
      "cell_type": "code",
      "metadata": {
        "id": "9EZeoig69Mo1",
        "colab": {
          "base_uri": "https://localhost:8080/"
        },
        "outputId": "8a1f3e85-a23a-4b81-a49d-32844d006aa5"
      },
      "source": [
        "rose.shape"
      ],
      "execution_count": 686,
      "outputs": [
        {
          "output_type": "execute_result",
          "data": {
            "text/plain": [
              "(305, 12)"
            ]
          },
          "metadata": {
            "tags": []
          },
          "execution_count": 686
        }
      ]
    },
    {
      "cell_type": "code",
      "metadata": {
        "colab": {
          "base_uri": "https://localhost:8080/"
        },
        "id": "GbUcOqE5PGKX",
        "outputId": "55d61f20-f3b0-4d99-c2b4-bcc9b7288c4d"
      },
      "source": [
        "rose.isnull().sum()"
      ],
      "execution_count": 687,
      "outputs": [
        {
          "output_type": "execute_result",
          "data": {
            "text/plain": [
              "Name                  0\n",
              "Email                 0\n",
              "Age                  13\n",
              "Sex                   0\n",
              "Address               0\n",
              "Sim_Company           0\n",
              "Marital_Status        0\n",
              "Religion              0\n",
              "Occupation            0\n",
              "Preference            0\n",
              "Favourite_Flower      0\n",
              "Comments            244\n",
              "dtype: int64"
            ]
          },
          "metadata": {
            "tags": []
          },
          "execution_count": 687
        }
      ]
    },
    {
      "cell_type": "code",
      "metadata": {
        "id": "T08g9aDASNb2",
        "colab": {
          "base_uri": "https://localhost:8080/"
        },
        "outputId": "f81f80e9-ff1b-45ba-c634-07b299b546b2"
      },
      "source": [
        "rose.info()"
      ],
      "execution_count": 688,
      "outputs": [
        {
          "output_type": "stream",
          "text": [
            "<class 'pandas.core.frame.DataFrame'>\n",
            "RangeIndex: 305 entries, 0 to 304\n",
            "Data columns (total 12 columns):\n",
            " #   Column            Non-Null Count  Dtype  \n",
            "---  ------            --------------  -----  \n",
            " 0   Name              305 non-null    object \n",
            " 1   Email             305 non-null    object \n",
            " 2   Age               292 non-null    float64\n",
            " 3   Sex               305 non-null    object \n",
            " 4   Address           305 non-null    object \n",
            " 5   Sim_Company       305 non-null    object \n",
            " 6   Marital_Status    305 non-null    object \n",
            " 7   Religion          305 non-null    object \n",
            " 8   Occupation        305 non-null    object \n",
            " 9   Preference        305 non-null    object \n",
            " 10  Favourite_Flower  305 non-null    object \n",
            " 11  Comments          61 non-null     object \n",
            "dtypes: float64(1), object(11)\n",
            "memory usage: 28.7+ KB\n"
          ],
          "name": "stdout"
        }
      ]
    },
    {
      "cell_type": "code",
      "metadata": {
        "id": "Tw5wTPEQSVhZ",
        "colab": {
          "base_uri": "https://localhost:8080/"
        },
        "outputId": "3736c70c-07dd-4ec1-e126-033c5760cf29"
      },
      "source": [
        "rose.isnull().sum()"
      ],
      "execution_count": 689,
      "outputs": [
        {
          "output_type": "execute_result",
          "data": {
            "text/plain": [
              "Name                  0\n",
              "Email                 0\n",
              "Age                  13\n",
              "Sex                   0\n",
              "Address               0\n",
              "Sim_Company           0\n",
              "Marital_Status        0\n",
              "Religion              0\n",
              "Occupation            0\n",
              "Preference            0\n",
              "Favourite_Flower      0\n",
              "Comments            244\n",
              "dtype: int64"
            ]
          },
          "metadata": {
            "tags": []
          },
          "execution_count": 689
        }
      ]
    },
    {
      "cell_type": "code",
      "metadata": {
        "id": "PKPiu2GkSrRg"
      },
      "source": [
        "import matplotlib.pyplot as plt\n",
        "%matplotlib inline\n",
        "import seaborn as sns\n",
        "sns.set()"
      ],
      "execution_count": 690,
      "outputs": []
    },
    {
      "cell_type": "code",
      "metadata": {
        "id": "x3tLBzWCYMrP"
      },
      "source": [
        "rose_test_data = [rose]\n"
      ],
      "execution_count": 691,
      "outputs": []
    },
    {
      "cell_type": "code",
      "metadata": {
        "id": "6l8ZtkPpYXzB"
      },
      "source": [
        "p_mapping = {\"No\": 0, \"Yes\": 1}"
      ],
      "execution_count": 692,
      "outputs": []
    },
    {
      "cell_type": "code",
      "metadata": {
        "id": "39-ZEFvBcQGk"
      },
      "source": [
        "for dataset in rose_test_data:\n",
        "  dataset[\"Preference\"] = dataset[\"Preference\"].map(p_mapping)"
      ],
      "execution_count": 693,
      "outputs": []
    },
    {
      "cell_type": "code",
      "metadata": {
        "id": "nMwu_PIqft54",
        "colab": {
          "base_uri": "https://localhost:8080/",
          "height": 315
        },
        "outputId": "48ee6787-79ee-4e3f-ab12-7ffc4acb453f"
      },
      "source": [
        "rose.head()"
      ],
      "execution_count": 694,
      "outputs": [
        {
          "output_type": "execute_result",
          "data": {
            "text/html": [
              "<div>\n",
              "<style scoped>\n",
              "    .dataframe tbody tr th:only-of-type {\n",
              "        vertical-align: middle;\n",
              "    }\n",
              "\n",
              "    .dataframe tbody tr th {\n",
              "        vertical-align: top;\n",
              "    }\n",
              "\n",
              "    .dataframe thead th {\n",
              "        text-align: right;\n",
              "    }\n",
              "</style>\n",
              "<table border=\"1\" class=\"dataframe\">\n",
              "  <thead>\n",
              "    <tr style=\"text-align: right;\">\n",
              "      <th></th>\n",
              "      <th>Name</th>\n",
              "      <th>Email</th>\n",
              "      <th>Age</th>\n",
              "      <th>Sex</th>\n",
              "      <th>Address</th>\n",
              "      <th>Sim_Company</th>\n",
              "      <th>Marital_Status</th>\n",
              "      <th>Religion</th>\n",
              "      <th>Occupation</th>\n",
              "      <th>Preference</th>\n",
              "      <th>Favourite_Flower</th>\n",
              "      <th>Comments</th>\n",
              "    </tr>\n",
              "  </thead>\n",
              "  <tbody>\n",
              "    <tr>\n",
              "      <th>0</th>\n",
              "      <td>Jahirul Islam</td>\n",
              "      <td>jahirul15-2752@diu.edu.bd</td>\n",
              "      <td>23.0</td>\n",
              "      <td>Male</td>\n",
              "      <td>Towns</td>\n",
              "      <td>Banglalink</td>\n",
              "      <td>Single</td>\n",
              "      <td>Islam</td>\n",
              "      <td>Student</td>\n",
              "      <td>1</td>\n",
              "      <td>Zinnia</td>\n",
              "      <td>Go Ahead</td>\n",
              "    </tr>\n",
              "    <tr>\n",
              "      <th>1</th>\n",
              "      <td>Asif</td>\n",
              "      <td>asif15-2750@diu.edu.bd</td>\n",
              "      <td>22.0</td>\n",
              "      <td>Male</td>\n",
              "      <td>Major City</td>\n",
              "      <td>Grameenphone</td>\n",
              "      <td>Single</td>\n",
              "      <td>Islam</td>\n",
              "      <td>Student</td>\n",
              "      <td>1</td>\n",
              "      <td>Red Rose</td>\n",
              "      <td>NaN</td>\n",
              "    </tr>\n",
              "    <tr>\n",
              "      <th>2</th>\n",
              "      <td>Tasrin Jahan Mishu</td>\n",
              "      <td>tasrin15-2706@diu.edu.bd</td>\n",
              "      <td>21.0</td>\n",
              "      <td>Female</td>\n",
              "      <td>Towns</td>\n",
              "      <td>Grameenphone</td>\n",
              "      <td>Single</td>\n",
              "      <td>Islam</td>\n",
              "      <td>Student</td>\n",
              "      <td>1</td>\n",
              "      <td>White daisy</td>\n",
              "      <td>It was interesting</td>\n",
              "    </tr>\n",
              "    <tr>\n",
              "      <th>3</th>\n",
              "      <td>Nadia Rahman</td>\n",
              "      <td>nadia15-2763@diu.edu.bd</td>\n",
              "      <td>21.0</td>\n",
              "      <td>Female</td>\n",
              "      <td>Urban Area</td>\n",
              "      <td>Grameenphone</td>\n",
              "      <td>Single</td>\n",
              "      <td>Islam</td>\n",
              "      <td>Student</td>\n",
              "      <td>0</td>\n",
              "      <td>I Don't like flower</td>\n",
              "      <td>Thank you</td>\n",
              "    </tr>\n",
              "    <tr>\n",
              "      <th>4</th>\n",
              "      <td>Fatima yesmin</td>\n",
              "      <td>fatima15-1850@diu.edu.bd</td>\n",
              "      <td>22.0</td>\n",
              "      <td>Female</td>\n",
              "      <td>City</td>\n",
              "      <td>Grameenphone</td>\n",
              "      <td>Single</td>\n",
              "      <td>Islam</td>\n",
              "      <td>Student</td>\n",
              "      <td>1</td>\n",
              "      <td>Red Rose</td>\n",
              "      <td>Not yet</td>\n",
              "    </tr>\n",
              "  </tbody>\n",
              "</table>\n",
              "</div>"
            ],
            "text/plain": [
              "                  Name  ...             Comments\n",
              "0        Jahirul Islam  ...             Go Ahead\n",
              "1                 Asif  ...                  NaN\n",
              "2  Tasrin Jahan Mishu   ...  It was interesting \n",
              "3         Nadia Rahman  ...            Thank you\n",
              "4        Fatima yesmin  ...              Not yet\n",
              "\n",
              "[5 rows x 12 columns]"
            ]
          },
          "metadata": {
            "tags": []
          },
          "execution_count": 694
        }
      ]
    },
    {
      "cell_type": "code",
      "metadata": {
        "id": "EhA9qgJSS2Vt"
      },
      "source": [
        "def bar_chart(feature):\n",
        "  like = rose[rose['Preference']==1][feature].value_counts()\n",
        "  dislike = rose[rose['Preference']==0][feature].value_counts()\n",
        "  df = pd.DataFrame([like,dislike])\n",
        "  df.index = ['Like','Dislike']\n",
        "  df.plot(kind = 'bar',stacked=True, figsize=(10,5))"
      ],
      "execution_count": 695,
      "outputs": []
    },
    {
      "cell_type": "code",
      "metadata": {
        "id": "mXiUx61WfR93",
        "colab": {
          "base_uri": "https://localhost:8080/",
          "height": 349
        },
        "outputId": "29c0b978-c907-4c89-d184-a9f9d4069d2b"
      },
      "source": [
        "bar_chart(\"Sex\")"
      ],
      "execution_count": 696,
      "outputs": [
        {
          "output_type": "display_data",
          "data": {
            "image/png": "[encoded data removed]",
            "text/plain": [
              "<Figure size 720x360 with 1 Axes>"
            ]
          },
          "metadata": {
            "tags": []
          }
        }
      ]
    },
    {
      "cell_type": "code",
      "metadata": {
        "colab": {
          "base_uri": "https://localhost:8080/"
        },
        "id": "KwlYR1s2J8hX",
        "outputId": "b9e59bbc-9f75-489e-a658-e8643a76c21a"
      },
      "source": [
        "rose.isnull().sum()"
      ],
      "execution_count": 697,
      "outputs": [
        {
          "output_type": "execute_result",
          "data": {
            "text/plain": [
              "Name                  0\n",
              "Email                 0\n",
              "Age                  13\n",
              "Sex                   0\n",
              "Address               0\n",
              "Sim_Company           0\n",
              "Marital_Status        0\n",
              "Religion              0\n",
              "Occupation            0\n",
              "Preference            0\n",
              "Favourite_Flower      0\n",
              "Comments            244\n",
              "dtype: int64"
            ]
          },
          "metadata": {
            "tags": []
          },
          "execution_count": 697
        }
      ]
    },
    {
      "cell_type": "code",
      "metadata": {
        "id": "sl_o0hYngG2-"
      },
      "source": [
        "sex_mapping = {\"Male\": 0, \"Female\": 1}\n",
        "for dataset in rose_test_data:\n",
        "    dataset['Sex'] = dataset['Sex'].map(sex_mapping)"
      ],
      "execution_count": 698,
      "outputs": []
    },
    {
      "cell_type": "code",
      "metadata": {
        "id": "YUfW--TXgMiM",
        "colab": {
          "base_uri": "https://localhost:8080/",
          "height": 349
        },
        "outputId": "e3ac2ab1-13d8-41bb-8072-2f6dd0015b52"
      },
      "source": [
        "bar_chart(\"Sex\")"
      ],
      "execution_count": 699,
      "outputs": [
        {
          "output_type": "display_data",
          "data": {
            "image/png": "[encoded data removed]",
            "text/plain": [
              "<Figure size 720x360 with 1 Axes>"
            ]
          },
          "metadata": {
            "tags": []
          }
        }
      ]
    },
    {
      "cell_type": "code",
      "metadata": {
        "id": "7m98GF_tclzZ",
        "colab": {
          "base_uri": "https://localhost:8080/",
          "height": 571
        },
        "outputId": "9ad580a0-0f52-42c6-a8ea-3712762fa879"
      },
      "source": [
        "rose.head(100)"
      ],
      "execution_count": 700,
      "outputs": [
        {
          "output_type": "execute_result",
          "data": {
            "text/html": [
              "<div>\n",
              "<style scoped>\n",
              "    .dataframe tbody tr th:only-of-type {\n",
              "        vertical-align: middle;\n",
              "    }\n",
              "\n",
              "    .dataframe tbody tr th {\n",
              "        vertical-align: top;\n",
              "    }\n",
              "\n",
              "    .dataframe thead th {\n",
              "        text-align: right;\n",
              "    }\n",
              "</style>\n",
              "<table border=\"1\" class=\"dataframe\">\n",
              "  <thead>\n",
              "    <tr style=\"text-align: right;\">\n",
              "      <th></th>\n",
              "      <th>Name</th>\n",
              "      <th>Email</th>\n",
              "      <th>Age</th>\n",
              "      <th>Sex</th>\n",
              "      <th>Address</th>\n",
              "      <th>Sim_Company</th>\n",
              "      <th>Marital_Status</th>\n",
              "      <th>Religion</th>\n",
              "      <th>Occupation</th>\n",
              "      <th>Preference</th>\n",
              "      <th>Favourite_Flower</th>\n",
              "      <th>Comments</th>\n",
              "    </tr>\n",
              "  </thead>\n",
              "  <tbody>\n",
              "    <tr>\n",
              "      <th>0</th>\n",
              "      <td>Jahirul Islam</td>\n",
              "      <td>jahirul15-2752@diu.edu.bd</td>\n",
              "      <td>23.0</td>\n",
              "      <td>0</td>\n",
              "      <td>Towns</td>\n",
              "      <td>Banglalink</td>\n",
              "      <td>Single</td>\n",
              "      <td>Islam</td>\n",
              "      <td>Student</td>\n",
              "      <td>1</td>\n",
              "      <td>Zinnia</td>\n",
              "      <td>Go Ahead</td>\n",
              "    </tr>\n",
              "    <tr>\n",
              "      <th>1</th>\n",
              "      <td>Asif</td>\n",
              "      <td>asif15-2750@diu.edu.bd</td>\n",
              "      <td>22.0</td>\n",
              "      <td>0</td>\n",
              "      <td>Major City</td>\n",
              "      <td>Grameenphone</td>\n",
              "      <td>Single</td>\n",
              "      <td>Islam</td>\n",
              "      <td>Student</td>\n",
              "      <td>1</td>\n",
              "      <td>Red Rose</td>\n",
              "      <td>NaN</td>\n",
              "    </tr>\n",
              "    <tr>\n",
              "      <th>2</th>\n",
              "      <td>Tasrin Jahan Mishu</td>\n",
              "      <td>tasrin15-2706@diu.edu.bd</td>\n",
              "      <td>21.0</td>\n",
              "      <td>1</td>\n",
              "      <td>Towns</td>\n",
              "      <td>Grameenphone</td>\n",
              "      <td>Single</td>\n",
              "      <td>Islam</td>\n",
              "      <td>Student</td>\n",
              "      <td>1</td>\n",
              "      <td>White daisy</td>\n",
              "      <td>It was interesting</td>\n",
              "    </tr>\n",
              "    <tr>\n",
              "      <th>3</th>\n",
              "      <td>Nadia Rahman</td>\n",
              "      <td>nadia15-2763@diu.edu.bd</td>\n",
              "      <td>21.0</td>\n",
              "      <td>1</td>\n",
              "      <td>Urban Area</td>\n",
              "      <td>Grameenphone</td>\n",
              "      <td>Single</td>\n",
              "      <td>Islam</td>\n",
              "      <td>Student</td>\n",
              "      <td>0</td>\n",
              "      <td>I Don't like flower</td>\n",
              "      <td>Thank you</td>\n",
              "    </tr>\n",
              "    <tr>\n",
              "      <th>4</th>\n",
              "      <td>Fatima yesmin</td>\n",
              "      <td>fatima15-1850@diu.edu.bd</td>\n",
              "      <td>22.0</td>\n",
              "      <td>1</td>\n",
              "      <td>City</td>\n",
              "      <td>Grameenphone</td>\n",
              "      <td>Single</td>\n",
              "      <td>Islam</td>\n",
              "      <td>Student</td>\n",
              "      <td>1</td>\n",
              "      <td>Red Rose</td>\n",
              "      <td>Not yet</td>\n",
              "    </tr>\n",
              "    <tr>\n",
              "      <th>...</th>\n",
              "      <td>...</td>\n",
              "      <td>...</td>\n",
              "      <td>...</td>\n",
              "      <td>...</td>\n",
              "      <td>...</td>\n",
              "      <td>...</td>\n",
              "      <td>...</td>\n",
              "      <td>...</td>\n",
              "      <td>...</td>\n",
              "      <td>...</td>\n",
              "      <td>...</td>\n",
              "      <td>...</td>\n",
              "    </tr>\n",
              "    <tr>\n",
              "      <th>95</th>\n",
              "      <td>Pervez Ahmed</td>\n",
              "      <td>pervez477@yahoo.com</td>\n",
              "      <td>19.0</td>\n",
              "      <td>0</td>\n",
              "      <td>Towns</td>\n",
              "      <td>Robi</td>\n",
              "      <td>Single</td>\n",
              "      <td>Islam</td>\n",
              "      <td>Student</td>\n",
              "      <td>0</td>\n",
              "      <td>I Don't like flower</td>\n",
              "      <td>NaN</td>\n",
              "    </tr>\n",
              "    <tr>\n",
              "      <th>96</th>\n",
              "      <td>Minhaz Kari</td>\n",
              "      <td>minhaz5633@gmail.com</td>\n",
              "      <td>28.0</td>\n",
              "      <td>0</td>\n",
              "      <td>Towns</td>\n",
              "      <td>Banglalink</td>\n",
              "      <td>Single</td>\n",
              "      <td>Islam</td>\n",
              "      <td>Student</td>\n",
              "      <td>1</td>\n",
              "      <td>Zinnia</td>\n",
              "      <td>NaN</td>\n",
              "    </tr>\n",
              "    <tr>\n",
              "      <th>97</th>\n",
              "      <td>Billal Kari</td>\n",
              "      <td>billahkari7886@yahoo.com</td>\n",
              "      <td>27.0</td>\n",
              "      <td>0</td>\n",
              "      <td>Urban Area</td>\n",
              "      <td>Banglalink</td>\n",
              "      <td>Single</td>\n",
              "      <td>Islam</td>\n",
              "      <td>Student</td>\n",
              "      <td>0</td>\n",
              "      <td>I Don't like flower</td>\n",
              "      <td>Carry on bro</td>\n",
              "    </tr>\n",
              "    <tr>\n",
              "      <th>98</th>\n",
              "      <td>Mohima</td>\n",
              "      <td>mohima76@gmail.com</td>\n",
              "      <td>29.0</td>\n",
              "      <td>1</td>\n",
              "      <td>Village</td>\n",
              "      <td>Grameenphone</td>\n",
              "      <td>Single</td>\n",
              "      <td>Islam</td>\n",
              "      <td>Jobless</td>\n",
              "      <td>1</td>\n",
              "      <td>Beli</td>\n",
              "      <td>NaN</td>\n",
              "    </tr>\n",
              "    <tr>\n",
              "      <th>99</th>\n",
              "      <td>Moon</td>\n",
              "      <td>moon45@gamil.com</td>\n",
              "      <td>35.0</td>\n",
              "      <td>0</td>\n",
              "      <td>Village</td>\n",
              "      <td>Teletalk</td>\n",
              "      <td>Married</td>\n",
              "      <td>Chirstan</td>\n",
              "      <td>Work</td>\n",
              "      <td>1</td>\n",
              "      <td>Zinnia</td>\n",
              "      <td>Carry on</td>\n",
              "    </tr>\n",
              "  </tbody>\n",
              "</table>\n",
              "<p>100 rows × 12 columns</p>\n",
              "</div>"
            ],
            "text/plain": [
              "                   Name  ...             Comments\n",
              "0         Jahirul Islam  ...             Go Ahead\n",
              "1                  Asif  ...                  NaN\n",
              "2   Tasrin Jahan Mishu   ...  It was interesting \n",
              "3          Nadia Rahman  ...            Thank you\n",
              "4         Fatima yesmin  ...              Not yet\n",
              "..                  ...  ...                  ...\n",
              "95         Pervez Ahmed  ...                  NaN\n",
              "96          Minhaz Kari  ...                  NaN\n",
              "97          Billal Kari  ...         Carry on bro\n",
              "98              Mohima   ...                  NaN\n",
              "99                 Moon  ...             Carry on\n",
              "\n",
              "[100 rows x 12 columns]"
            ]
          },
          "metadata": {
            "tags": []
          },
          "execution_count": 700
        }
      ]
    },
    {
      "cell_type": "code",
      "metadata": {
        "id": "M7n2RRnmiCoP",
        "colab": {
          "base_uri": "https://localhost:8080/",
          "height": 349
        },
        "outputId": "66bd4761-d244-4f25-f77a-70b736f00bc2"
      },
      "source": [
        "bar_chart(\"Address\")"
      ],
      "execution_count": 701,
      "outputs": [
        {
          "output_type": "display_data",
          "data": {
            "image/png": "[encoded data removed]",
            "text/plain": [
              "<Figure size 720x360 with 1 Axes>"
            ]
          },
          "metadata": {
            "tags": []
          }
        }
      ]
    },
    {
      "cell_type": "code",
      "metadata": {
        "id": "17mRRp5Qjix1",
        "colab": {
          "base_uri": "https://localhost:8080/"
        },
        "outputId": "90db1dea-e9f6-44a4-b497-43ebe4831c0b"
      },
      "source": [
        "rose['Address'].value_counts()"
      ],
      "execution_count": 702,
      "outputs": [
        {
          "output_type": "execute_result",
          "data": {
            "text/plain": [
              "Towns         106\n",
              "City           73\n",
              "Major City     71\n",
              "Urban Area     44\n",
              "Village         9\n",
              "Savar DOHS      2\n",
              "Name: Address, dtype: int64"
            ]
          },
          "metadata": {
            "tags": []
          },
          "execution_count": 702
        }
      ]
    },
    {
      "cell_type": "code",
      "metadata": {
        "id": "IA-x90vpi5lh"
      },
      "source": [
        "ad_mapping = {\"Towns\":2,\"Major City\":1,\n",
        "              \"City\":3,\"Savar DOHS\":3,\"Village\":0,\"Urban Area\":0}"
      ],
      "execution_count": 703,
      "outputs": []
    },
    {
      "cell_type": "code",
      "metadata": {
        "id": "w-KyiNr2ktry"
      },
      "source": [
        "for dataset in rose_test_data:\n",
        "    dataset['Address'] = dataset['Address'].map(ad_mapping)"
      ],
      "execution_count": 704,
      "outputs": []
    },
    {
      "cell_type": "code",
      "metadata": {
        "id": "Ye13D2vKlDsY",
        "colab": {
          "base_uri": "https://localhost:8080/",
          "height": 349
        },
        "outputId": "b008d0c5-f926-42ab-9f12-aa0f5a6bf8f1"
      },
      "source": [
        "bar_chart(\"Address\")"
      ],
      "execution_count": 705,
      "outputs": [
        {
          "output_type": "display_data",
          "data": {
            "image/png": "[encoded data removed]",
            "text/plain": [
              "<Figure size 720x360 with 1 Axes>"
            ]
          },
          "metadata": {
            "tags": []
          }
        }
      ]
    },
    {
      "cell_type": "code",
      "metadata": {
        "id": "w8Jy2UVkltw3",
        "colab": {
          "base_uri": "https://localhost:8080/",
          "height": 315
        },
        "outputId": "d7491f60-78f2-401b-a8b2-18c9e88037df"
      },
      "source": [
        "rose.head()"
      ],
      "execution_count": 706,
      "outputs": [
        {
          "output_type": "execute_result",
          "data": {
            "text/html": [
              "<div>\n",
              "<style scoped>\n",
              "    .dataframe tbody tr th:only-of-type {\n",
              "        vertical-align: middle;\n",
              "    }\n",
              "\n",
              "    .dataframe tbody tr th {\n",
              "        vertical-align: top;\n",
              "    }\n",
              "\n",
              "    .dataframe thead th {\n",
              "        text-align: right;\n",
              "    }\n",
              "</style>\n",
              "<table border=\"1\" class=\"dataframe\">\n",
              "  <thead>\n",
              "    <tr style=\"text-align: right;\">\n",
              "      <th></th>\n",
              "      <th>Name</th>\n",
              "      <th>Email</th>\n",
              "      <th>Age</th>\n",
              "      <th>Sex</th>\n",
              "      <th>Address</th>\n",
              "      <th>Sim_Company</th>\n",
              "      <th>Marital_Status</th>\n",
              "      <th>Religion</th>\n",
              "      <th>Occupation</th>\n",
              "      <th>Preference</th>\n",
              "      <th>Favourite_Flower</th>\n",
              "      <th>Comments</th>\n",
              "    </tr>\n",
              "  </thead>\n",
              "  <tbody>\n",
              "    <tr>\n",
              "      <th>0</th>\n",
              "      <td>Jahirul Islam</td>\n",
              "      <td>jahirul15-2752@diu.edu.bd</td>\n",
              "      <td>23.0</td>\n",
              "      <td>0</td>\n",
              "      <td>2</td>\n",
              "      <td>Banglalink</td>\n",
              "      <td>Single</td>\n",
              "      <td>Islam</td>\n",
              "      <td>Student</td>\n",
              "      <td>1</td>\n",
              "      <td>Zinnia</td>\n",
              "      <td>Go Ahead</td>\n",
              "    </tr>\n",
              "    <tr>\n",
              "      <th>1</th>\n",
              "      <td>Asif</td>\n",
              "      <td>asif15-2750@diu.edu.bd</td>\n",
              "      <td>22.0</td>\n",
              "      <td>0</td>\n",
              "      <td>1</td>\n",
              "      <td>Grameenphone</td>\n",
              "      <td>Single</td>\n",
              "      <td>Islam</td>\n",
              "      <td>Student</td>\n",
              "      <td>1</td>\n",
              "      <td>Red Rose</td>\n",
              "      <td>NaN</td>\n",
              "    </tr>\n",
              "    <tr>\n",
              "      <th>2</th>\n",
              "      <td>Tasrin Jahan Mishu</td>\n",
              "      <td>tasrin15-2706@diu.edu.bd</td>\n",
              "      <td>21.0</td>\n",
              "      <td>1</td>\n",
              "      <td>2</td>\n",
              "      <td>Grameenphone</td>\n",
              "      <td>Single</td>\n",
              "      <td>Islam</td>\n",
              "      <td>Student</td>\n",
              "      <td>1</td>\n",
              "      <td>White daisy</td>\n",
              "      <td>It was interesting</td>\n",
              "    </tr>\n",
              "    <tr>\n",
              "      <th>3</th>\n",
              "      <td>Nadia Rahman</td>\n",
              "      <td>nadia15-2763@diu.edu.bd</td>\n",
              "      <td>21.0</td>\n",
              "      <td>1</td>\n",
              "      <td>0</td>\n",
              "      <td>Grameenphone</td>\n",
              "      <td>Single</td>\n",
              "      <td>Islam</td>\n",
              "      <td>Student</td>\n",
              "      <td>0</td>\n",
              "      <td>I Don't like flower</td>\n",
              "      <td>Thank you</td>\n",
              "    </tr>\n",
              "    <tr>\n",
              "      <th>4</th>\n",
              "      <td>Fatima yesmin</td>\n",
              "      <td>fatima15-1850@diu.edu.bd</td>\n",
              "      <td>22.0</td>\n",
              "      <td>1</td>\n",
              "      <td>3</td>\n",
              "      <td>Grameenphone</td>\n",
              "      <td>Single</td>\n",
              "      <td>Islam</td>\n",
              "      <td>Student</td>\n",
              "      <td>1</td>\n",
              "      <td>Red Rose</td>\n",
              "      <td>Not yet</td>\n",
              "    </tr>\n",
              "  </tbody>\n",
              "</table>\n",
              "</div>"
            ],
            "text/plain": [
              "                  Name  ...             Comments\n",
              "0        Jahirul Islam  ...             Go Ahead\n",
              "1                 Asif  ...                  NaN\n",
              "2  Tasrin Jahan Mishu   ...  It was interesting \n",
              "3         Nadia Rahman  ...            Thank you\n",
              "4        Fatima yesmin  ...              Not yet\n",
              "\n",
              "[5 rows x 12 columns]"
            ]
          },
          "metadata": {
            "tags": []
          },
          "execution_count": 706
        }
      ]
    },
    {
      "cell_type": "code",
      "metadata": {
        "id": "fdzn_Z0B9WZU"
      },
      "source": [
        "ms_mapping = {\"Single\":0,\"Married\":1}"
      ],
      "execution_count": 707,
      "outputs": []
    },
    {
      "cell_type": "code",
      "metadata": {
        "id": "lX0_OBER9Xus"
      },
      "source": [
        "for dataset in rose_test_data:\n",
        "    dataset['Marital_Status'] = dataset['Marital_Status'].map(ms_mapping)"
      ],
      "execution_count": 708,
      "outputs": []
    },
    {
      "cell_type": "code",
      "metadata": {
        "id": "BcivLYG-97fj",
        "colab": {
          "base_uri": "https://localhost:8080/",
          "height": 315
        },
        "outputId": "54fca7ad-dd66-4acf-dd39-1782436c33d2"
      },
      "source": [
        "rose.head()"
      ],
      "execution_count": 709,
      "outputs": [
        {
          "output_type": "execute_result",
          "data": {
            "text/html": [
              "<div>\n",
              "<style scoped>\n",
              "    .dataframe tbody tr th:only-of-type {\n",
              "        vertical-align: middle;\n",
              "    }\n",
              "\n",
              "    .dataframe tbody tr th {\n",
              "        vertical-align: top;\n",
              "    }\n",
              "\n",
              "    .dataframe thead th {\n",
              "        text-align: right;\n",
              "    }\n",
              "</style>\n",
              "<table border=\"1\" class=\"dataframe\">\n",
              "  <thead>\n",
              "    <tr style=\"text-align: right;\">\n",
              "      <th></th>\n",
              "      <th>Name</th>\n",
              "      <th>Email</th>\n",
              "      <th>Age</th>\n",
              "      <th>Sex</th>\n",
              "      <th>Address</th>\n",
              "      <th>Sim_Company</th>\n",
              "      <th>Marital_Status</th>\n",
              "      <th>Religion</th>\n",
              "      <th>Occupation</th>\n",
              "      <th>Preference</th>\n",
              "      <th>Favourite_Flower</th>\n",
              "      <th>Comments</th>\n",
              "    </tr>\n",
              "  </thead>\n",
              "  <tbody>\n",
              "    <tr>\n",
              "      <th>0</th>\n",
              "      <td>Jahirul Islam</td>\n",
              "      <td>jahirul15-2752@diu.edu.bd</td>\n",
              "      <td>23.0</td>\n",
              "      <td>0</td>\n",
              "      <td>2</td>\n",
              "      <td>Banglalink</td>\n",
              "      <td>0</td>\n",
              "      <td>Islam</td>\n",
              "      <td>Student</td>\n",
              "      <td>1</td>\n",
              "      <td>Zinnia</td>\n",
              "      <td>Go Ahead</td>\n",
              "    </tr>\n",
              "    <tr>\n",
              "      <th>1</th>\n",
              "      <td>Asif</td>\n",
              "      <td>asif15-2750@diu.edu.bd</td>\n",
              "      <td>22.0</td>\n",
              "      <td>0</td>\n",
              "      <td>1</td>\n",
              "      <td>Grameenphone</td>\n",
              "      <td>0</td>\n",
              "      <td>Islam</td>\n",
              "      <td>Student</td>\n",
              "      <td>1</td>\n",
              "      <td>Red Rose</td>\n",
              "      <td>NaN</td>\n",
              "    </tr>\n",
              "    <tr>\n",
              "      <th>2</th>\n",
              "      <td>Tasrin Jahan Mishu</td>\n",
              "      <td>tasrin15-2706@diu.edu.bd</td>\n",
              "      <td>21.0</td>\n",
              "      <td>1</td>\n",
              "      <td>2</td>\n",
              "      <td>Grameenphone</td>\n",
              "      <td>0</td>\n",
              "      <td>Islam</td>\n",
              "      <td>Student</td>\n",
              "      <td>1</td>\n",
              "      <td>White daisy</td>\n",
              "      <td>It was interesting</td>\n",
              "    </tr>\n",
              "    <tr>\n",
              "      <th>3</th>\n",
              "      <td>Nadia Rahman</td>\n",
              "      <td>nadia15-2763@diu.edu.bd</td>\n",
              "      <td>21.0</td>\n",
              "      <td>1</td>\n",
              "      <td>0</td>\n",
              "      <td>Grameenphone</td>\n",
              "      <td>0</td>\n",
              "      <td>Islam</td>\n",
              "      <td>Student</td>\n",
              "      <td>0</td>\n",
              "      <td>I Don't like flower</td>\n",
              "      <td>Thank you</td>\n",
              "    </tr>\n",
              "    <tr>\n",
              "      <th>4</th>\n",
              "      <td>Fatima yesmin</td>\n",
              "      <td>fatima15-1850@diu.edu.bd</td>\n",
              "      <td>22.0</td>\n",
              "      <td>1</td>\n",
              "      <td>3</td>\n",
              "      <td>Grameenphone</td>\n",
              "      <td>0</td>\n",
              "      <td>Islam</td>\n",
              "      <td>Student</td>\n",
              "      <td>1</td>\n",
              "      <td>Red Rose</td>\n",
              "      <td>Not yet</td>\n",
              "    </tr>\n",
              "  </tbody>\n",
              "</table>\n",
              "</div>"
            ],
            "text/plain": [
              "                  Name  ...             Comments\n",
              "0        Jahirul Islam  ...             Go Ahead\n",
              "1                 Asif  ...                  NaN\n",
              "2  Tasrin Jahan Mishu   ...  It was interesting \n",
              "3         Nadia Rahman  ...            Thank you\n",
              "4        Fatima yesmin  ...              Not yet\n",
              "\n",
              "[5 rows x 12 columns]"
            ]
          },
          "metadata": {
            "tags": []
          },
          "execution_count": 709
        }
      ]
    },
    {
      "cell_type": "code",
      "metadata": {
        "id": "FA1hsPem-05g",
        "colab": {
          "base_uri": "https://localhost:8080/"
        },
        "outputId": "ff2c9584-ec7b-4f16-aeb3-df86eab3e4a4"
      },
      "source": [
        "rose['Religion'].value_counts()"
      ],
      "execution_count": 710,
      "outputs": [
        {
          "output_type": "execute_result",
          "data": {
            "text/plain": [
              "Islam       283\n",
              "Hindu        21\n",
              "Chirstan      1\n",
              "Name: Religion, dtype: int64"
            ]
          },
          "metadata": {
            "tags": []
          },
          "execution_count": 710
        }
      ]
    },
    {
      "cell_type": "code",
      "metadata": {
        "id": "5cHg774y9_z2"
      },
      "source": [
        "religion_mapping = {\"Islam\":0,\"Hindu\":1,\"Chirstan\":2}"
      ],
      "execution_count": 711,
      "outputs": []
    },
    {
      "cell_type": "code",
      "metadata": {
        "id": "4roeGMqS-Ll8"
      },
      "source": [
        "for dataset in rose_test_data:\n",
        "    dataset['Religion'] = dataset['Religion'].map(religion_mapping)"
      ],
      "execution_count": 712,
      "outputs": []
    },
    {
      "cell_type": "code",
      "metadata": {
        "colab": {
          "base_uri": "https://localhost:8080/"
        },
        "id": "rMvMP7RnJ2Zc",
        "outputId": "755a3ada-ac57-4d8f-a141-c2a58de492fa"
      },
      "source": [
        "rose.isnull().sum()"
      ],
      "execution_count": 713,
      "outputs": [
        {
          "output_type": "execute_result",
          "data": {
            "text/plain": [
              "Name                  0\n",
              "Email                 0\n",
              "Age                  13\n",
              "Sex                   0\n",
              "Address               0\n",
              "Sim_Company           0\n",
              "Marital_Status        0\n",
              "Religion              0\n",
              "Occupation            0\n",
              "Preference            0\n",
              "Favourite_Flower      0\n",
              "Comments            244\n",
              "dtype: int64"
            ]
          },
          "metadata": {
            "tags": []
          },
          "execution_count": 713
        }
      ]
    },
    {
      "cell_type": "code",
      "metadata": {
        "id": "vp1EFHgT-aq4",
        "colab": {
          "base_uri": "https://localhost:8080/",
          "height": 315
        },
        "outputId": "5261563f-ab06-42a2-9975-4b033c7bd62f"
      },
      "source": [
        "rose.head()"
      ],
      "execution_count": 714,
      "outputs": [
        {
          "output_type": "execute_result",
          "data": {
            "text/html": [
              "<div>\n",
              "<style scoped>\n",
              "    .dataframe tbody tr th:only-of-type {\n",
              "        vertical-align: middle;\n",
              "    }\n",
              "\n",
              "    .dataframe tbody tr th {\n",
              "        vertical-align: top;\n",
              "    }\n",
              "\n",
              "    .dataframe thead th {\n",
              "        text-align: right;\n",
              "    }\n",
              "</style>\n",
              "<table border=\"1\" class=\"dataframe\">\n",
              "  <thead>\n",
              "    <tr style=\"text-align: right;\">\n",
              "      <th></th>\n",
              "      <th>Name</th>\n",
              "      <th>Email</th>\n",
              "      <th>Age</th>\n",
              "      <th>Sex</th>\n",
              "      <th>Address</th>\n",
              "      <th>Sim_Company</th>\n",
              "      <th>Marital_Status</th>\n",
              "      <th>Religion</th>\n",
              "      <th>Occupation</th>\n",
              "      <th>Preference</th>\n",
              "      <th>Favourite_Flower</th>\n",
              "      <th>Comments</th>\n",
              "    </tr>\n",
              "  </thead>\n",
              "  <tbody>\n",
              "    <tr>\n",
              "      <th>0</th>\n",
              "      <td>Jahirul Islam</td>\n",
              "      <td>jahirul15-2752@diu.edu.bd</td>\n",
              "      <td>23.0</td>\n",
              "      <td>0</td>\n",
              "      <td>2</td>\n",
              "      <td>Banglalink</td>\n",
              "      <td>0</td>\n",
              "      <td>0</td>\n",
              "      <td>Student</td>\n",
              "      <td>1</td>\n",
              "      <td>Zinnia</td>\n",
              "      <td>Go Ahead</td>\n",
              "    </tr>\n",
              "    <tr>\n",
              "      <th>1</th>\n",
              "      <td>Asif</td>\n",
              "      <td>asif15-2750@diu.edu.bd</td>\n",
              "      <td>22.0</td>\n",
              "      <td>0</td>\n",
              "      <td>1</td>\n",
              "      <td>Grameenphone</td>\n",
              "      <td>0</td>\n",
              "      <td>0</td>\n",
              "      <td>Student</td>\n",
              "      <td>1</td>\n",
              "      <td>Red Rose</td>\n",
              "      <td>NaN</td>\n",
              "    </tr>\n",
              "    <tr>\n",
              "      <th>2</th>\n",
              "      <td>Tasrin Jahan Mishu</td>\n",
              "      <td>tasrin15-2706@diu.edu.bd</td>\n",
              "      <td>21.0</td>\n",
              "      <td>1</td>\n",
              "      <td>2</td>\n",
              "      <td>Grameenphone</td>\n",
              "      <td>0</td>\n",
              "      <td>0</td>\n",
              "      <td>Student</td>\n",
              "      <td>1</td>\n",
              "      <td>White daisy</td>\n",
              "      <td>It was interesting</td>\n",
              "    </tr>\n",
              "    <tr>\n",
              "      <th>3</th>\n",
              "      <td>Nadia Rahman</td>\n",
              "      <td>nadia15-2763@diu.edu.bd</td>\n",
              "      <td>21.0</td>\n",
              "      <td>1</td>\n",
              "      <td>0</td>\n",
              "      <td>Grameenphone</td>\n",
              "      <td>0</td>\n",
              "      <td>0</td>\n",
              "      <td>Student</td>\n",
              "      <td>0</td>\n",
              "      <td>I Don't like flower</td>\n",
              "      <td>Thank you</td>\n",
              "    </tr>\n",
              "    <tr>\n",
              "      <th>4</th>\n",
              "      <td>Fatima yesmin</td>\n",
              "      <td>fatima15-1850@diu.edu.bd</td>\n",
              "      <td>22.0</td>\n",
              "      <td>1</td>\n",
              "      <td>3</td>\n",
              "      <td>Grameenphone</td>\n",
              "      <td>0</td>\n",
              "      <td>0</td>\n",
              "      <td>Student</td>\n",
              "      <td>1</td>\n",
              "      <td>Red Rose</td>\n",
              "      <td>Not yet</td>\n",
              "    </tr>\n",
              "  </tbody>\n",
              "</table>\n",
              "</div>"
            ],
            "text/plain": [
              "                  Name  ...             Comments\n",
              "0        Jahirul Islam  ...             Go Ahead\n",
              "1                 Asif  ...                  NaN\n",
              "2  Tasrin Jahan Mishu   ...  It was interesting \n",
              "3         Nadia Rahman  ...            Thank you\n",
              "4        Fatima yesmin  ...              Not yet\n",
              "\n",
              "[5 rows x 12 columns]"
            ]
          },
          "metadata": {
            "tags": []
          },
          "execution_count": 714
        }
      ]
    },
    {
      "cell_type": "code",
      "metadata": {
        "colab": {
          "base_uri": "https://localhost:8080/"
        },
        "id": "-IqfnYGfDxvJ",
        "outputId": "0a962311-bddf-4894-aced-cc045a158bdc"
      },
      "source": [
        "rose.isnull().sum()"
      ],
      "execution_count": 715,
      "outputs": [
        {
          "output_type": "execute_result",
          "data": {
            "text/plain": [
              "Name                  0\n",
              "Email                 0\n",
              "Age                  13\n",
              "Sex                   0\n",
              "Address               0\n",
              "Sim_Company           0\n",
              "Marital_Status        0\n",
              "Religion              0\n",
              "Occupation            0\n",
              "Preference            0\n",
              "Favourite_Flower      0\n",
              "Comments            244\n",
              "dtype: int64"
            ]
          },
          "metadata": {
            "tags": []
          },
          "execution_count": 715
        }
      ]
    },
    {
      "cell_type": "code",
      "metadata": {
        "id": "FGkqbxVQ_Pn8",
        "colab": {
          "base_uri": "https://localhost:8080/"
        },
        "outputId": "315101ad-8564-4667-81f1-7db6eb01deff"
      },
      "source": [
        "rose['Occupation'].value_counts()"
      ],
      "execution_count": 716,
      "outputs": [
        {
          "output_type": "execute_result",
          "data": {
            "text/plain": [
              "Student    235\n",
              "Work        43\n",
              "Jobless     16\n",
              "Teacher     11\n",
              "Name: Occupation, dtype: int64"
            ]
          },
          "metadata": {
            "tags": []
          },
          "execution_count": 716
        }
      ]
    },
    {
      "cell_type": "code",
      "metadata": {
        "id": "m41ObXEMXKdx"
      },
      "source": [
        "op_mapping = {'Jobless':0,'Student':1,'Work':2,'Teacher':4}"
      ],
      "execution_count": 717,
      "outputs": []
    },
    {
      "cell_type": "code",
      "metadata": {
        "id": "N_-5Ka_WXpE0"
      },
      "source": [
        "for dataset in rose_test_data:\n",
        "  dataset['Occupation'] = dataset['Occupation'].map(op_mapping)\n"
      ],
      "execution_count": 718,
      "outputs": []
    },
    {
      "cell_type": "code",
      "metadata": {
        "colab": {
          "base_uri": "https://localhost:8080/"
        },
        "id": "4ihdtCNcZlN_",
        "outputId": "085a752a-2e2f-44f5-c95e-299a862ebd4a"
      },
      "source": [
        "rose['Occupation'].value_counts()"
      ],
      "execution_count": 719,
      "outputs": [
        {
          "output_type": "execute_result",
          "data": {
            "text/plain": [
              "1    235\n",
              "2     43\n",
              "0     16\n",
              "4     11\n",
              "Name: Occupation, dtype: int64"
            ]
          },
          "metadata": {
            "tags": []
          },
          "execution_count": 719
        }
      ]
    },
    {
      "cell_type": "code",
      "metadata": {
        "colab": {
          "base_uri": "https://localhost:8080/",
          "height": 349
        },
        "id": "sVs-VHNKms0T",
        "outputId": "73a68b52-e527-4a9c-c05c-1115f3662011"
      },
      "source": [
        "bar_chart('Occupation')"
      ],
      "execution_count": 720,
      "outputs": [
        {
          "output_type": "display_data",
          "data": {
            "image/png": "[encoded data removed]",
            "text/plain": [
              "<Figure size 720x360 with 1 Axes>"
            ]
          },
          "metadata": {
            "tags": []
          }
        }
      ]
    },
    {
      "cell_type": "code",
      "metadata": {
        "colab": {
          "base_uri": "https://localhost:8080/"
        },
        "id": "BlPdvv2-PDGW",
        "outputId": "40f454e1-c62d-417a-8472-c4025f215a24"
      },
      "source": [
        "rose.isnull().sum()"
      ],
      "execution_count": 721,
      "outputs": [
        {
          "output_type": "execute_result",
          "data": {
            "text/plain": [
              "Name                  0\n",
              "Email                 0\n",
              "Age                  13\n",
              "Sex                   0\n",
              "Address               0\n",
              "Sim_Company           0\n",
              "Marital_Status        0\n",
              "Religion              0\n",
              "Occupation            0\n",
              "Preference            0\n",
              "Favourite_Flower      0\n",
              "Comments            244\n",
              "dtype: int64"
            ]
          },
          "metadata": {
            "tags": []
          },
          "execution_count": 721
        }
      ]
    },
    {
      "cell_type": "code",
      "metadata": {
        "id": "WX_gsRfYBL0S",
        "colab": {
          "base_uri": "https://localhost:8080/"
        },
        "outputId": "d4290b99-2abe-4575-acef-ec763fadc641"
      },
      "source": [
        "rose['Sim_Company'].value_counts()"
      ],
      "execution_count": 722,
      "outputs": [
        {
          "output_type": "execute_result",
          "data": {
            "text/plain": [
              "Grameenphone    131\n",
              "Banglalink       97\n",
              "Robi             47\n",
              "Airtel           21\n",
              "Teletalk          9\n",
              "Name: Sim_Company, dtype: int64"
            ]
          },
          "metadata": {
            "tags": []
          },
          "execution_count": 722
        }
      ]
    },
    {
      "cell_type": "code",
      "metadata": {
        "colab": {
          "base_uri": "https://localhost:8080/",
          "height": 349
        },
        "id": "xSvtBGdznbPv",
        "outputId": "328f6184-f4ee-497b-9efa-bde5f1411cc7"
      },
      "source": [
        "bar_chart('Sim_Company')"
      ],
      "execution_count": 723,
      "outputs": [
        {
          "output_type": "display_data",
          "data": {
            "image/png": "[encoded data removed]",
            "text/plain": [
              "<Figure size 720x360 with 1 Axes>"
            ]
          },
          "metadata": {
            "tags": []
          }
        }
      ]
    },
    {
      "cell_type": "code",
      "metadata": {
        "id": "sIikbmbkBTXC"
      },
      "source": [
        "tele_mapping = {\"Grameenphone\":\"1\",\"Banglalink\":\"2\",\"Robi\":\"3\",\"Airtel\":\"3\",\"Teletalk\":\"4\"}"
      ],
      "execution_count": 724,
      "outputs": []
    },
    {
      "cell_type": "code",
      "metadata": {
        "id": "jY11eZ07BseS"
      },
      "source": [
        "for dataset in rose_test_data:\n",
        "    dataset['Sim_Company'] = dataset['Sim_Company'].map(tele_mapping)"
      ],
      "execution_count": 725,
      "outputs": []
    },
    {
      "cell_type": "code",
      "metadata": {
        "colab": {
          "base_uri": "https://localhost:8080/",
          "height": 315
        },
        "id": "-kD8Aa0ywn00",
        "outputId": "840bc7ac-a36a-4003-b711-489051352a86"
      },
      "source": [
        "rose.head()"
      ],
      "execution_count": 726,
      "outputs": [
        {
          "output_type": "execute_result",
          "data": {
            "text/html": [
              "<div>\n",
              "<style scoped>\n",
              "    .dataframe tbody tr th:only-of-type {\n",
              "        vertical-align: middle;\n",
              "    }\n",
              "\n",
              "    .dataframe tbody tr th {\n",
              "        vertical-align: top;\n",
              "    }\n",
              "\n",
              "    .dataframe thead th {\n",
              "        text-align: right;\n",
              "    }\n",
              "</style>\n",
              "<table border=\"1\" class=\"dataframe\">\n",
              "  <thead>\n",
              "    <tr style=\"text-align: right;\">\n",
              "      <th></th>\n",
              "      <th>Name</th>\n",
              "      <th>Email</th>\n",
              "      <th>Age</th>\n",
              "      <th>Sex</th>\n",
              "      <th>Address</th>\n",
              "      <th>Sim_Company</th>\n",
              "      <th>Marital_Status</th>\n",
              "      <th>Religion</th>\n",
              "      <th>Occupation</th>\n",
              "      <th>Preference</th>\n",
              "      <th>Favourite_Flower</th>\n",
              "      <th>Comments</th>\n",
              "    </tr>\n",
              "  </thead>\n",
              "  <tbody>\n",
              "    <tr>\n",
              "      <th>0</th>\n",
              "      <td>Jahirul Islam</td>\n",
              "      <td>jahirul15-2752@diu.edu.bd</td>\n",
              "      <td>23.0</td>\n",
              "      <td>0</td>\n",
              "      <td>2</td>\n",
              "      <td>2</td>\n",
              "      <td>0</td>\n",
              "      <td>0</td>\n",
              "      <td>1</td>\n",
              "      <td>1</td>\n",
              "      <td>Zinnia</td>\n",
              "      <td>Go Ahead</td>\n",
              "    </tr>\n",
              "    <tr>\n",
              "      <th>1</th>\n",
              "      <td>Asif</td>\n",
              "      <td>asif15-2750@diu.edu.bd</td>\n",
              "      <td>22.0</td>\n",
              "      <td>0</td>\n",
              "      <td>1</td>\n",
              "      <td>1</td>\n",
              "      <td>0</td>\n",
              "      <td>0</td>\n",
              "      <td>1</td>\n",
              "      <td>1</td>\n",
              "      <td>Red Rose</td>\n",
              "      <td>NaN</td>\n",
              "    </tr>\n",
              "    <tr>\n",
              "      <th>2</th>\n",
              "      <td>Tasrin Jahan Mishu</td>\n",
              "      <td>tasrin15-2706@diu.edu.bd</td>\n",
              "      <td>21.0</td>\n",
              "      <td>1</td>\n",
              "      <td>2</td>\n",
              "      <td>1</td>\n",
              "      <td>0</td>\n",
              "      <td>0</td>\n",
              "      <td>1</td>\n",
              "      <td>1</td>\n",
              "      <td>White daisy</td>\n",
              "      <td>It was interesting</td>\n",
              "    </tr>\n",
              "    <tr>\n",
              "      <th>3</th>\n",
              "      <td>Nadia Rahman</td>\n",
              "      <td>nadia15-2763@diu.edu.bd</td>\n",
              "      <td>21.0</td>\n",
              "      <td>1</td>\n",
              "      <td>0</td>\n",
              "      <td>1</td>\n",
              "      <td>0</td>\n",
              "      <td>0</td>\n",
              "      <td>1</td>\n",
              "      <td>0</td>\n",
              "      <td>I Don't like flower</td>\n",
              "      <td>Thank you</td>\n",
              "    </tr>\n",
              "    <tr>\n",
              "      <th>4</th>\n",
              "      <td>Fatima yesmin</td>\n",
              "      <td>fatima15-1850@diu.edu.bd</td>\n",
              "      <td>22.0</td>\n",
              "      <td>1</td>\n",
              "      <td>3</td>\n",
              "      <td>1</td>\n",
              "      <td>0</td>\n",
              "      <td>0</td>\n",
              "      <td>1</td>\n",
              "      <td>1</td>\n",
              "      <td>Red Rose</td>\n",
              "      <td>Not yet</td>\n",
              "    </tr>\n",
              "  </tbody>\n",
              "</table>\n",
              "</div>"
            ],
            "text/plain": [
              "                  Name  ...             Comments\n",
              "0        Jahirul Islam  ...             Go Ahead\n",
              "1                 Asif  ...                  NaN\n",
              "2  Tasrin Jahan Mishu   ...  It was interesting \n",
              "3         Nadia Rahman  ...            Thank you\n",
              "4        Fatima yesmin  ...              Not yet\n",
              "\n",
              "[5 rows x 12 columns]"
            ]
          },
          "metadata": {
            "tags": []
          },
          "execution_count": 726
        }
      ]
    },
    {
      "cell_type": "code",
      "metadata": {
        "id": "J8Mhq59bN4yQ",
        "colab": {
          "base_uri": "https://localhost:8080/"
        },
        "outputId": "5d1b153e-753e-4260-9ed9-8fef4a6c4a1e"
      },
      "source": [
        "rose.isnull().sum()"
      ],
      "execution_count": 727,
      "outputs": [
        {
          "output_type": "execute_result",
          "data": {
            "text/plain": [
              "Name                  0\n",
              "Email                 0\n",
              "Age                  13\n",
              "Sex                   0\n",
              "Address               0\n",
              "Sim_Company           0\n",
              "Marital_Status        0\n",
              "Religion              0\n",
              "Occupation            0\n",
              "Preference            0\n",
              "Favourite_Flower      0\n",
              "Comments            244\n",
              "dtype: int64"
            ]
          },
          "metadata": {
            "tags": []
          },
          "execution_count": 727
        }
      ]
    },
    {
      "cell_type": "code",
      "metadata": {
        "id": "dd0SRJkCK4v-",
        "colab": {
          "base_uri": "https://localhost:8080/",
          "height": 1000
        },
        "outputId": "6d175933-2368-41c1-d29d-742851d66ad2"
      },
      "source": [
        "rose.head(20)"
      ],
      "execution_count": 728,
      "outputs": [
        {
          "output_type": "execute_result",
          "data": {
            "text/html": [
              "<div>\n",
              "<style scoped>\n",
              "    .dataframe tbody tr th:only-of-type {\n",
              "        vertical-align: middle;\n",
              "    }\n",
              "\n",
              "    .dataframe tbody tr th {\n",
              "        vertical-align: top;\n",
              "    }\n",
              "\n",
              "    .dataframe thead th {\n",
              "        text-align: right;\n",
              "    }\n",
              "</style>\n",
              "<table border=\"1\" class=\"dataframe\">\n",
              "  <thead>\n",
              "    <tr style=\"text-align: right;\">\n",
              "      <th></th>\n",
              "      <th>Name</th>\n",
              "      <th>Email</th>\n",
              "      <th>Age</th>\n",
              "      <th>Sex</th>\n",
              "      <th>Address</th>\n",
              "      <th>Sim_Company</th>\n",
              "      <th>Marital_Status</th>\n",
              "      <th>Religion</th>\n",
              "      <th>Occupation</th>\n",
              "      <th>Preference</th>\n",
              "      <th>Favourite_Flower</th>\n",
              "      <th>Comments</th>\n",
              "    </tr>\n",
              "  </thead>\n",
              "  <tbody>\n",
              "    <tr>\n",
              "      <th>0</th>\n",
              "      <td>Jahirul Islam</td>\n",
              "      <td>jahirul15-2752@diu.edu.bd</td>\n",
              "      <td>23.0</td>\n",
              "      <td>0</td>\n",
              "      <td>2</td>\n",
              "      <td>2</td>\n",
              "      <td>0</td>\n",
              "      <td>0</td>\n",
              "      <td>1</td>\n",
              "      <td>1</td>\n",
              "      <td>Zinnia</td>\n",
              "      <td>Go Ahead</td>\n",
              "    </tr>\n",
              "    <tr>\n",
              "      <th>1</th>\n",
              "      <td>Asif</td>\n",
              "      <td>asif15-2750@diu.edu.bd</td>\n",
              "      <td>22.0</td>\n",
              "      <td>0</td>\n",
              "      <td>1</td>\n",
              "      <td>1</td>\n",
              "      <td>0</td>\n",
              "      <td>0</td>\n",
              "      <td>1</td>\n",
              "      <td>1</td>\n",
              "      <td>Red Rose</td>\n",
              "      <td>NaN</td>\n",
              "    </tr>\n",
              "    <tr>\n",
              "      <th>2</th>\n",
              "      <td>Tasrin Jahan Mishu</td>\n",
              "      <td>tasrin15-2706@diu.edu.bd</td>\n",
              "      <td>21.0</td>\n",
              "      <td>1</td>\n",
              "      <td>2</td>\n",
              "      <td>1</td>\n",
              "      <td>0</td>\n",
              "      <td>0</td>\n",
              "      <td>1</td>\n",
              "      <td>1</td>\n",
              "      <td>White daisy</td>\n",
              "      <td>It was interesting</td>\n",
              "    </tr>\n",
              "    <tr>\n",
              "      <th>3</th>\n",
              "      <td>Nadia Rahman</td>\n",
              "      <td>nadia15-2763@diu.edu.bd</td>\n",
              "      <td>21.0</td>\n",
              "      <td>1</td>\n",
              "      <td>0</td>\n",
              "      <td>1</td>\n",
              "      <td>0</td>\n",
              "      <td>0</td>\n",
              "      <td>1</td>\n",
              "      <td>0</td>\n",
              "      <td>I Don't like flower</td>\n",
              "      <td>Thank you</td>\n",
              "    </tr>\n",
              "    <tr>\n",
              "      <th>4</th>\n",
              "      <td>Fatima yesmin</td>\n",
              "      <td>fatima15-1850@diu.edu.bd</td>\n",
              "      <td>22.0</td>\n",
              "      <td>1</td>\n",
              "      <td>3</td>\n",
              "      <td>1</td>\n",
              "      <td>0</td>\n",
              "      <td>0</td>\n",
              "      <td>1</td>\n",
              "      <td>1</td>\n",
              "      <td>Red Rose</td>\n",
              "      <td>Not yet</td>\n",
              "    </tr>\n",
              "    <tr>\n",
              "      <th>5</th>\n",
              "      <td>Ahsan Habib</td>\n",
              "      <td>asrk1080@gmail.com</td>\n",
              "      <td>23.0</td>\n",
              "      <td>0</td>\n",
              "      <td>2</td>\n",
              "      <td>2</td>\n",
              "      <td>0</td>\n",
              "      <td>0</td>\n",
              "      <td>1</td>\n",
              "      <td>1</td>\n",
              "      <td>Red Rose</td>\n",
              "      <td>NaN</td>\n",
              "    </tr>\n",
              "    <tr>\n",
              "      <th>6</th>\n",
              "      <td>Sharmin akter</td>\n",
              "      <td>sharmin15-2573@diu.edu.bd</td>\n",
              "      <td>21.0</td>\n",
              "      <td>1</td>\n",
              "      <td>3</td>\n",
              "      <td>2</td>\n",
              "      <td>0</td>\n",
              "      <td>0</td>\n",
              "      <td>1</td>\n",
              "      <td>1</td>\n",
              "      <td>White Rose</td>\n",
              "      <td>NaN</td>\n",
              "    </tr>\n",
              "    <tr>\n",
              "      <th>7</th>\n",
              "      <td>Ashik Mahmud Reshat</td>\n",
              "      <td>reshatmahmud@gmail.com</td>\n",
              "      <td>22.0</td>\n",
              "      <td>0</td>\n",
              "      <td>3</td>\n",
              "      <td>1</td>\n",
              "      <td>0</td>\n",
              "      <td>0</td>\n",
              "      <td>1</td>\n",
              "      <td>1</td>\n",
              "      <td>Red Rose</td>\n",
              "      <td>NaN</td>\n",
              "    </tr>\n",
              "    <tr>\n",
              "      <th>8</th>\n",
              "      <td>owali alam himel</td>\n",
              "      <td>himel75545@gmail.com</td>\n",
              "      <td>23.0</td>\n",
              "      <td>0</td>\n",
              "      <td>3</td>\n",
              "      <td>2</td>\n",
              "      <td>1</td>\n",
              "      <td>0</td>\n",
              "      <td>1</td>\n",
              "      <td>1</td>\n",
              "      <td>White Rose</td>\n",
              "      <td>NaN</td>\n",
              "    </tr>\n",
              "    <tr>\n",
              "      <th>9</th>\n",
              "      <td>Shahid</td>\n",
              "      <td>shahid15-2737@gmail.com</td>\n",
              "      <td>25.0</td>\n",
              "      <td>0</td>\n",
              "      <td>3</td>\n",
              "      <td>2</td>\n",
              "      <td>0</td>\n",
              "      <td>0</td>\n",
              "      <td>1</td>\n",
              "      <td>1</td>\n",
              "      <td>Daffodil</td>\n",
              "      <td>NaN</td>\n",
              "    </tr>\n",
              "    <tr>\n",
              "      <th>10</th>\n",
              "      <td>Naimul Hasan Akib</td>\n",
              "      <td>naimul15-2423@diu.edu.bd</td>\n",
              "      <td>20.0</td>\n",
              "      <td>0</td>\n",
              "      <td>3</td>\n",
              "      <td>3</td>\n",
              "      <td>0</td>\n",
              "      <td>0</td>\n",
              "      <td>1</td>\n",
              "      <td>1</td>\n",
              "      <td>Red Rose</td>\n",
              "      <td>interesting</td>\n",
              "    </tr>\n",
              "    <tr>\n",
              "      <th>11</th>\n",
              "      <td>kalpana akter</td>\n",
              "      <td>kalpana15-2597@diu.edu.bd</td>\n",
              "      <td>22.0</td>\n",
              "      <td>1</td>\n",
              "      <td>1</td>\n",
              "      <td>3</td>\n",
              "      <td>0</td>\n",
              "      <td>0</td>\n",
              "      <td>1</td>\n",
              "      <td>1</td>\n",
              "      <td>Lotus</td>\n",
              "      <td>nice</td>\n",
              "    </tr>\n",
              "    <tr>\n",
              "      <th>12</th>\n",
              "      <td>Afsana Mou</td>\n",
              "      <td>afsana29-081@diu.edu.bd</td>\n",
              "      <td>24.0</td>\n",
              "      <td>1</td>\n",
              "      <td>1</td>\n",
              "      <td>1</td>\n",
              "      <td>0</td>\n",
              "      <td>0</td>\n",
              "      <td>1</td>\n",
              "      <td>1</td>\n",
              "      <td>Jasmine</td>\n",
              "      <td>Nothing</td>\n",
              "    </tr>\n",
              "    <tr>\n",
              "      <th>13</th>\n",
              "      <td>Murad Hossain</td>\n",
              "      <td>murad15-2412@diu.edu.bd</td>\n",
              "      <td>23.0</td>\n",
              "      <td>0</td>\n",
              "      <td>0</td>\n",
              "      <td>3</td>\n",
              "      <td>0</td>\n",
              "      <td>0</td>\n",
              "      <td>1</td>\n",
              "      <td>0</td>\n",
              "      <td>I Don't like flower</td>\n",
              "      <td>NaN</td>\n",
              "    </tr>\n",
              "    <tr>\n",
              "      <th>14</th>\n",
              "      <td>Muhammad Mahmudul</td>\n",
              "      <td>mahmudul15-2711@diu.edu.bd</td>\n",
              "      <td>24.0</td>\n",
              "      <td>0</td>\n",
              "      <td>2</td>\n",
              "      <td>1</td>\n",
              "      <td>0</td>\n",
              "      <td>0</td>\n",
              "      <td>1</td>\n",
              "      <td>1</td>\n",
              "      <td>Daffodil</td>\n",
              "      <td>Carry on</td>\n",
              "    </tr>\n",
              "    <tr>\n",
              "      <th>15</th>\n",
              "      <td>Robiul hasan</td>\n",
              "      <td>robiul15-2516@diu.edu.bd</td>\n",
              "      <td>22.0</td>\n",
              "      <td>0</td>\n",
              "      <td>2</td>\n",
              "      <td>3</td>\n",
              "      <td>0</td>\n",
              "      <td>0</td>\n",
              "      <td>1</td>\n",
              "      <td>1</td>\n",
              "      <td>Red Rose</td>\n",
              "      <td>NaN</td>\n",
              "    </tr>\n",
              "    <tr>\n",
              "      <th>16</th>\n",
              "      <td>Ashikur Rahman</td>\n",
              "      <td>rsshanto34@gmail.com</td>\n",
              "      <td>24.0</td>\n",
              "      <td>0</td>\n",
              "      <td>2</td>\n",
              "      <td>1</td>\n",
              "      <td>0</td>\n",
              "      <td>0</td>\n",
              "      <td>1</td>\n",
              "      <td>1</td>\n",
              "      <td>Black rose</td>\n",
              "      <td>No comments</td>\n",
              "    </tr>\n",
              "    <tr>\n",
              "      <th>17</th>\n",
              "      <td>Tahomin Taslima Eya</td>\n",
              "      <td>tahomin35-373@diu.edu.bd</td>\n",
              "      <td>20.0</td>\n",
              "      <td>1</td>\n",
              "      <td>3</td>\n",
              "      <td>2</td>\n",
              "      <td>0</td>\n",
              "      <td>0</td>\n",
              "      <td>1</td>\n",
              "      <td>1</td>\n",
              "      <td>Zinnia</td>\n",
              "      <td>NaN</td>\n",
              "    </tr>\n",
              "    <tr>\n",
              "      <th>18</th>\n",
              "      <td>Mustafizur Rahman</td>\n",
              "      <td>mr2480379@gmail.com</td>\n",
              "      <td>23.0</td>\n",
              "      <td>0</td>\n",
              "      <td>1</td>\n",
              "      <td>2</td>\n",
              "      <td>0</td>\n",
              "      <td>0</td>\n",
              "      <td>1</td>\n",
              "      <td>1</td>\n",
              "      <td>Red Rose</td>\n",
              "      <td>NaN</td>\n",
              "    </tr>\n",
              "    <tr>\n",
              "      <th>19</th>\n",
              "      <td>Kazi Mizanur Rahman</td>\n",
              "      <td>kazi47-219@diu.bd.edu</td>\n",
              "      <td>25.0</td>\n",
              "      <td>0</td>\n",
              "      <td>0</td>\n",
              "      <td>3</td>\n",
              "      <td>0</td>\n",
              "      <td>0</td>\n",
              "      <td>1</td>\n",
              "      <td>1</td>\n",
              "      <td>Red Rose</td>\n",
              "      <td>NaN</td>\n",
              "    </tr>\n",
              "  </tbody>\n",
              "</table>\n",
              "</div>"
            ],
            "text/plain": [
              "                    Name  ...             Comments\n",
              "0          Jahirul Islam  ...             Go Ahead\n",
              "1                   Asif  ...                  NaN\n",
              "2    Tasrin Jahan Mishu   ...  It was interesting \n",
              "3           Nadia Rahman  ...            Thank you\n",
              "4          Fatima yesmin  ...              Not yet\n",
              "5            Ahsan Habib  ...                  NaN\n",
              "6          Sharmin akter  ...                  NaN\n",
              "7   Ashik Mahmud Reshat   ...                  NaN\n",
              "8       owali alam himel  ...                  NaN\n",
              "9                 Shahid  ...                  NaN\n",
              "10     Naimul Hasan Akib  ...          interesting\n",
              "11         kalpana akter  ...                 nice\n",
              "12            Afsana Mou  ...              Nothing\n",
              "13         Murad Hossain  ...                  NaN\n",
              "14     Muhammad Mahmudul  ...             Carry on\n",
              "15          Robiul hasan  ...                  NaN\n",
              "16        Ashikur Rahman  ...          No comments\n",
              "17   Tahomin Taslima Eya  ...                  NaN\n",
              "18     Mustafizur Rahman  ...                  NaN\n",
              "19   Kazi Mizanur Rahman  ...                  NaN\n",
              "\n",
              "[20 rows x 12 columns]"
            ]
          },
          "metadata": {
            "tags": []
          },
          "execution_count": 728
        }
      ]
    },
    {
      "cell_type": "code",
      "metadata": {
        "id": "uHCAti_5CLLg",
        "colab": {
          "base_uri": "https://localhost:8080/",
          "height": 349
        },
        "outputId": "7866822a-6f53-4f64-8abf-25c3908c35d7"
      },
      "source": [
        "bar_chart(\"Sim_Company\")"
      ],
      "execution_count": 729,
      "outputs": [
        {
          "output_type": "display_data",
          "data": {
            "image/png": "[encoded data removed]",
            "text/plain": [
              "<Figure size 720x360 with 1 Axes>"
            ]
          },
          "metadata": {
            "tags": []
          }
        }
      ]
    },
    {
      "cell_type": "code",
      "metadata": {
        "id": "W8WiYPMlB1kt",
        "colab": {
          "base_uri": "https://localhost:8080/",
          "height": 1000
        },
        "outputId": "3d8dca77-95ea-4f97-e284-1403d2c2dd8a"
      },
      "source": [
        "rose.head(20)"
      ],
      "execution_count": 730,
      "outputs": [
        {
          "output_type": "execute_result",
          "data": {
            "text/html": [
              "<div>\n",
              "<style scoped>\n",
              "    .dataframe tbody tr th:only-of-type {\n",
              "        vertical-align: middle;\n",
              "    }\n",
              "\n",
              "    .dataframe tbody tr th {\n",
              "        vertical-align: top;\n",
              "    }\n",
              "\n",
              "    .dataframe thead th {\n",
              "        text-align: right;\n",
              "    }\n",
              "</style>\n",
              "<table border=\"1\" class=\"dataframe\">\n",
              "  <thead>\n",
              "    <tr style=\"text-align: right;\">\n",
              "      <th></th>\n",
              "      <th>Name</th>\n",
              "      <th>Email</th>\n",
              "      <th>Age</th>\n",
              "      <th>Sex</th>\n",
              "      <th>Address</th>\n",
              "      <th>Sim_Company</th>\n",
              "      <th>Marital_Status</th>\n",
              "      <th>Religion</th>\n",
              "      <th>Occupation</th>\n",
              "      <th>Preference</th>\n",
              "      <th>Favourite_Flower</th>\n",
              "      <th>Comments</th>\n",
              "    </tr>\n",
              "  </thead>\n",
              "  <tbody>\n",
              "    <tr>\n",
              "      <th>0</th>\n",
              "      <td>Jahirul Islam</td>\n",
              "      <td>jahirul15-2752@diu.edu.bd</td>\n",
              "      <td>23.0</td>\n",
              "      <td>0</td>\n",
              "      <td>2</td>\n",
              "      <td>2</td>\n",
              "      <td>0</td>\n",
              "      <td>0</td>\n",
              "      <td>1</td>\n",
              "      <td>1</td>\n",
              "      <td>Zinnia</td>\n",
              "      <td>Go Ahead</td>\n",
              "    </tr>\n",
              "    <tr>\n",
              "      <th>1</th>\n",
              "      <td>Asif</td>\n",
              "      <td>asif15-2750@diu.edu.bd</td>\n",
              "      <td>22.0</td>\n",
              "      <td>0</td>\n",
              "      <td>1</td>\n",
              "      <td>1</td>\n",
              "      <td>0</td>\n",
              "      <td>0</td>\n",
              "      <td>1</td>\n",
              "      <td>1</td>\n",
              "      <td>Red Rose</td>\n",
              "      <td>NaN</td>\n",
              "    </tr>\n",
              "    <tr>\n",
              "      <th>2</th>\n",
              "      <td>Tasrin Jahan Mishu</td>\n",
              "      <td>tasrin15-2706@diu.edu.bd</td>\n",
              "      <td>21.0</td>\n",
              "      <td>1</td>\n",
              "      <td>2</td>\n",
              "      <td>1</td>\n",
              "      <td>0</td>\n",
              "      <td>0</td>\n",
              "      <td>1</td>\n",
              "      <td>1</td>\n",
              "      <td>White daisy</td>\n",
              "      <td>It was interesting</td>\n",
              "    </tr>\n",
              "    <tr>\n",
              "      <th>3</th>\n",
              "      <td>Nadia Rahman</td>\n",
              "      <td>nadia15-2763@diu.edu.bd</td>\n",
              "      <td>21.0</td>\n",
              "      <td>1</td>\n",
              "      <td>0</td>\n",
              "      <td>1</td>\n",
              "      <td>0</td>\n",
              "      <td>0</td>\n",
              "      <td>1</td>\n",
              "      <td>0</td>\n",
              "      <td>I Don't like flower</td>\n",
              "      <td>Thank you</td>\n",
              "    </tr>\n",
              "    <tr>\n",
              "      <th>4</th>\n",
              "      <td>Fatima yesmin</td>\n",
              "      <td>fatima15-1850@diu.edu.bd</td>\n",
              "      <td>22.0</td>\n",
              "      <td>1</td>\n",
              "      <td>3</td>\n",
              "      <td>1</td>\n",
              "      <td>0</td>\n",
              "      <td>0</td>\n",
              "      <td>1</td>\n",
              "      <td>1</td>\n",
              "      <td>Red Rose</td>\n",
              "      <td>Not yet</td>\n",
              "    </tr>\n",
              "    <tr>\n",
              "      <th>5</th>\n",
              "      <td>Ahsan Habib</td>\n",
              "      <td>asrk1080@gmail.com</td>\n",
              "      <td>23.0</td>\n",
              "      <td>0</td>\n",
              "      <td>2</td>\n",
              "      <td>2</td>\n",
              "      <td>0</td>\n",
              "      <td>0</td>\n",
              "      <td>1</td>\n",
              "      <td>1</td>\n",
              "      <td>Red Rose</td>\n",
              "      <td>NaN</td>\n",
              "    </tr>\n",
              "    <tr>\n",
              "      <th>6</th>\n",
              "      <td>Sharmin akter</td>\n",
              "      <td>sharmin15-2573@diu.edu.bd</td>\n",
              "      <td>21.0</td>\n",
              "      <td>1</td>\n",
              "      <td>3</td>\n",
              "      <td>2</td>\n",
              "      <td>0</td>\n",
              "      <td>0</td>\n",
              "      <td>1</td>\n",
              "      <td>1</td>\n",
              "      <td>White Rose</td>\n",
              "      <td>NaN</td>\n",
              "    </tr>\n",
              "    <tr>\n",
              "      <th>7</th>\n",
              "      <td>Ashik Mahmud Reshat</td>\n",
              "      <td>reshatmahmud@gmail.com</td>\n",
              "      <td>22.0</td>\n",
              "      <td>0</td>\n",
              "      <td>3</td>\n",
              "      <td>1</td>\n",
              "      <td>0</td>\n",
              "      <td>0</td>\n",
              "      <td>1</td>\n",
              "      <td>1</td>\n",
              "      <td>Red Rose</td>\n",
              "      <td>NaN</td>\n",
              "    </tr>\n",
              "    <tr>\n",
              "      <th>8</th>\n",
              "      <td>owali alam himel</td>\n",
              "      <td>himel75545@gmail.com</td>\n",
              "      <td>23.0</td>\n",
              "      <td>0</td>\n",
              "      <td>3</td>\n",
              "      <td>2</td>\n",
              "      <td>1</td>\n",
              "      <td>0</td>\n",
              "      <td>1</td>\n",
              "      <td>1</td>\n",
              "      <td>White Rose</td>\n",
              "      <td>NaN</td>\n",
              "    </tr>\n",
              "    <tr>\n",
              "      <th>9</th>\n",
              "      <td>Shahid</td>\n",
              "      <td>shahid15-2737@gmail.com</td>\n",
              "      <td>25.0</td>\n",
              "      <td>0</td>\n",
              "      <td>3</td>\n",
              "      <td>2</td>\n",
              "      <td>0</td>\n",
              "      <td>0</td>\n",
              "      <td>1</td>\n",
              "      <td>1</td>\n",
              "      <td>Daffodil</td>\n",
              "      <td>NaN</td>\n",
              "    </tr>\n",
              "    <tr>\n",
              "      <th>10</th>\n",
              "      <td>Naimul Hasan Akib</td>\n",
              "      <td>naimul15-2423@diu.edu.bd</td>\n",
              "      <td>20.0</td>\n",
              "      <td>0</td>\n",
              "      <td>3</td>\n",
              "      <td>3</td>\n",
              "      <td>0</td>\n",
              "      <td>0</td>\n",
              "      <td>1</td>\n",
              "      <td>1</td>\n",
              "      <td>Red Rose</td>\n",
              "      <td>interesting</td>\n",
              "    </tr>\n",
              "    <tr>\n",
              "      <th>11</th>\n",
              "      <td>kalpana akter</td>\n",
              "      <td>kalpana15-2597@diu.edu.bd</td>\n",
              "      <td>22.0</td>\n",
              "      <td>1</td>\n",
              "      <td>1</td>\n",
              "      <td>3</td>\n",
              "      <td>0</td>\n",
              "      <td>0</td>\n",
              "      <td>1</td>\n",
              "      <td>1</td>\n",
              "      <td>Lotus</td>\n",
              "      <td>nice</td>\n",
              "    </tr>\n",
              "    <tr>\n",
              "      <th>12</th>\n",
              "      <td>Afsana Mou</td>\n",
              "      <td>afsana29-081@diu.edu.bd</td>\n",
              "      <td>24.0</td>\n",
              "      <td>1</td>\n",
              "      <td>1</td>\n",
              "      <td>1</td>\n",
              "      <td>0</td>\n",
              "      <td>0</td>\n",
              "      <td>1</td>\n",
              "      <td>1</td>\n",
              "      <td>Jasmine</td>\n",
              "      <td>Nothing</td>\n",
              "    </tr>\n",
              "    <tr>\n",
              "      <th>13</th>\n",
              "      <td>Murad Hossain</td>\n",
              "      <td>murad15-2412@diu.edu.bd</td>\n",
              "      <td>23.0</td>\n",
              "      <td>0</td>\n",
              "      <td>0</td>\n",
              "      <td>3</td>\n",
              "      <td>0</td>\n",
              "      <td>0</td>\n",
              "      <td>1</td>\n",
              "      <td>0</td>\n",
              "      <td>I Don't like flower</td>\n",
              "      <td>NaN</td>\n",
              "    </tr>\n",
              "    <tr>\n",
              "      <th>14</th>\n",
              "      <td>Muhammad Mahmudul</td>\n",
              "      <td>mahmudul15-2711@diu.edu.bd</td>\n",
              "      <td>24.0</td>\n",
              "      <td>0</td>\n",
              "      <td>2</td>\n",
              "      <td>1</td>\n",
              "      <td>0</td>\n",
              "      <td>0</td>\n",
              "      <td>1</td>\n",
              "      <td>1</td>\n",
              "      <td>Daffodil</td>\n",
              "      <td>Carry on</td>\n",
              "    </tr>\n",
              "    <tr>\n",
              "      <th>15</th>\n",
              "      <td>Robiul hasan</td>\n",
              "      <td>robiul15-2516@diu.edu.bd</td>\n",
              "      <td>22.0</td>\n",
              "      <td>0</td>\n",
              "      <td>2</td>\n",
              "      <td>3</td>\n",
              "      <td>0</td>\n",
              "      <td>0</td>\n",
              "      <td>1</td>\n",
              "      <td>1</td>\n",
              "      <td>Red Rose</td>\n",
              "      <td>NaN</td>\n",
              "    </tr>\n",
              "    <tr>\n",
              "      <th>16</th>\n",
              "      <td>Ashikur Rahman</td>\n",
              "      <td>rsshanto34@gmail.com</td>\n",
              "      <td>24.0</td>\n",
              "      <td>0</td>\n",
              "      <td>2</td>\n",
              "      <td>1</td>\n",
              "      <td>0</td>\n",
              "      <td>0</td>\n",
              "      <td>1</td>\n",
              "      <td>1</td>\n",
              "      <td>Black rose</td>\n",
              "      <td>No comments</td>\n",
              "    </tr>\n",
              "    <tr>\n",
              "      <th>17</th>\n",
              "      <td>Tahomin Taslima Eya</td>\n",
              "      <td>tahomin35-373@diu.edu.bd</td>\n",
              "      <td>20.0</td>\n",
              "      <td>1</td>\n",
              "      <td>3</td>\n",
              "      <td>2</td>\n",
              "      <td>0</td>\n",
              "      <td>0</td>\n",
              "      <td>1</td>\n",
              "      <td>1</td>\n",
              "      <td>Zinnia</td>\n",
              "      <td>NaN</td>\n",
              "    </tr>\n",
              "    <tr>\n",
              "      <th>18</th>\n",
              "      <td>Mustafizur Rahman</td>\n",
              "      <td>mr2480379@gmail.com</td>\n",
              "      <td>23.0</td>\n",
              "      <td>0</td>\n",
              "      <td>1</td>\n",
              "      <td>2</td>\n",
              "      <td>0</td>\n",
              "      <td>0</td>\n",
              "      <td>1</td>\n",
              "      <td>1</td>\n",
              "      <td>Red Rose</td>\n",
              "      <td>NaN</td>\n",
              "    </tr>\n",
              "    <tr>\n",
              "      <th>19</th>\n",
              "      <td>Kazi Mizanur Rahman</td>\n",
              "      <td>kazi47-219@diu.bd.edu</td>\n",
              "      <td>25.0</td>\n",
              "      <td>0</td>\n",
              "      <td>0</td>\n",
              "      <td>3</td>\n",
              "      <td>0</td>\n",
              "      <td>0</td>\n",
              "      <td>1</td>\n",
              "      <td>1</td>\n",
              "      <td>Red Rose</td>\n",
              "      <td>NaN</td>\n",
              "    </tr>\n",
              "  </tbody>\n",
              "</table>\n",
              "</div>"
            ],
            "text/plain": [
              "                    Name  ...             Comments\n",
              "0          Jahirul Islam  ...             Go Ahead\n",
              "1                   Asif  ...                  NaN\n",
              "2    Tasrin Jahan Mishu   ...  It was interesting \n",
              "3           Nadia Rahman  ...            Thank you\n",
              "4          Fatima yesmin  ...              Not yet\n",
              "5            Ahsan Habib  ...                  NaN\n",
              "6          Sharmin akter  ...                  NaN\n",
              "7   Ashik Mahmud Reshat   ...                  NaN\n",
              "8       owali alam himel  ...                  NaN\n",
              "9                 Shahid  ...                  NaN\n",
              "10     Naimul Hasan Akib  ...          interesting\n",
              "11         kalpana akter  ...                 nice\n",
              "12            Afsana Mou  ...              Nothing\n",
              "13         Murad Hossain  ...                  NaN\n",
              "14     Muhammad Mahmudul  ...             Carry on\n",
              "15          Robiul hasan  ...                  NaN\n",
              "16        Ashikur Rahman  ...          No comments\n",
              "17   Tahomin Taslima Eya  ...                  NaN\n",
              "18     Mustafizur Rahman  ...                  NaN\n",
              "19   Kazi Mizanur Rahman  ...                  NaN\n",
              "\n",
              "[20 rows x 12 columns]"
            ]
          },
          "metadata": {
            "tags": []
          },
          "execution_count": 730
        }
      ]
    },
    {
      "cell_type": "code",
      "metadata": {
        "colab": {
          "base_uri": "https://localhost:8080/",
          "height": 349
        },
        "id": "4tCAEregE0sl",
        "outputId": "ec502a3d-603c-4ca8-f345-e3f609b4d4aa"
      },
      "source": [
        "bar_chart('Age')"
      ],
      "execution_count": 731,
      "outputs": [
        {
          "output_type": "display_data",
          "data": {
            "image/png": "[encoded data removed]",
            "text/plain": [
              "<Figure size 720x360 with 1 Axes>"
            ]
          },
          "metadata": {
            "tags": []
          }
        }
      ]
    },
    {
      "cell_type": "code",
      "metadata": {
        "colab": {
          "base_uri": "https://localhost:8080/",
          "height": 161
        },
        "id": "O63cCdNRFN0L",
        "outputId": "9e44f0f1-9e97-43d9-9b3e-6adc90a3b0b3"
      },
      "source": [
        "facet = sns.FacetGrid(rose, hue=\"Preference\",aspect=4)\n",
        "facet.map(sns.kdeplot,'Age',shade= True)\n",
        "facet.set(xlim=(0, rose['Age'].max()))\n",
        "facet.add_legend()\n",
        "plt.show()"
      ],
      "execution_count": 732,
      "outputs": [
        {
          "output_type": "display_data",
          "data": {
            "image/png": "[encoded data removed]",
            "text/plain": [
              "<Figure size 937.05x216 with 1 Axes>"
            ]
          },
          "metadata": {
            "tags": []
          }
        }
      ]
    },
    {
      "cell_type": "code",
      "metadata": {
        "colab": {
          "base_uri": "https://localhost:8080/",
          "height": 179
        },
        "id": "wUREbRxPFpEg",
        "outputId": "ab1d35f6-0711-4955-e5d1-9f65cd0b2987"
      },
      "source": [
        "facet = sns.FacetGrid(rose, hue=\"Preference\",aspect=4)\n",
        "facet.map(sns.kdeplot,'Age',shade= True)\n",
        "facet.set(xlim=(0, rose['Age'].max()))\n",
        "facet.add_legend()\n",
        "plt.xlim(0,20)"
      ],
      "execution_count": 733,
      "outputs": [
        {
          "output_type": "execute_result",
          "data": {
            "text/plain": [
              "(0.0, 20.0)"
            ]
          },
          "metadata": {
            "tags": []
          },
          "execution_count": 733
        },
        {
          "output_type": "display_data",
          "data": {
            "image/png": "[encoded data removed]",
            "text/plain": [
              "<Figure size 937.05x216 with 1 Axes>"
            ]
          },
          "metadata": {
            "tags": []
          }
        }
      ]
    },
    {
      "cell_type": "code",
      "metadata": {
        "colab": {
          "base_uri": "https://localhost:8080/",
          "height": 179
        },
        "id": "N8BGdud1GAgi",
        "outputId": "59a8f62b-3b50-4777-b82c-7bba0a593a84"
      },
      "source": [
        "facet = sns.FacetGrid(rose, hue=\"Preference\",aspect=4)\n",
        "facet.map(sns.kdeplot,'Age',shade= True)\n",
        "facet.set(xlim=(0, rose['Age'].max()))\n",
        "facet.add_legend()\n",
        "plt.xlim(20,30)"
      ],
      "execution_count": 734,
      "outputs": [
        {
          "output_type": "execute_result",
          "data": {
            "text/plain": [
              "(20.0, 30.0)"
            ]
          },
          "metadata": {
            "tags": []
          },
          "execution_count": 734
        },
        {
          "output_type": "display_data",
          "data": {
            "image/png": "[encoded data removed]",
            "text/plain": [
              "<Figure size 937.05x216 with 1 Axes>"
            ]
          },
          "metadata": {
            "tags": []
          }
        }
      ]
    },
    {
      "cell_type": "code",
      "metadata": {
        "colab": {
          "base_uri": "https://localhost:8080/",
          "height": 179
        },
        "id": "PSj4KWC5GM2c",
        "outputId": "8ad9d4e9-0764-41c4-819b-d9d8fd6a12c8"
      },
      "source": [
        "facet = sns.FacetGrid(rose, hue=\"Preference\",aspect=4)\n",
        "facet.map(sns.kdeplot,'Age',shade= True)\n",
        "facet.set(xlim=(0, rose['Age'].max()))\n",
        "facet.add_legend()\n",
        "plt.xlim(30,40)"
      ],
      "execution_count": 735,
      "outputs": [
        {
          "output_type": "execute_result",
          "data": {
            "text/plain": [
              "(30.0, 40.0)"
            ]
          },
          "metadata": {
            "tags": []
          },
          "execution_count": 735
        },
        {
          "output_type": "display_data",
          "data": {
            "image/png": "[encoded data removed]",
            "text/plain": [
              "<Figure size 937.05x216 with 1 Axes>"
            ]
          },
          "metadata": {
            "tags": []
          }
        }
      ]
    },
    {
      "cell_type": "code",
      "metadata": {
        "colab": {
          "base_uri": "https://localhost:8080/",
          "height": 179
        },
        "id": "ChMOMxmeGRs0",
        "outputId": "eb120267-5539-4fcc-98c0-423e1c5808d4"
      },
      "source": [
        "facet = sns.FacetGrid(rose, hue=\"Preference\",aspect=4)\n",
        "facet.map(sns.kdeplot,'Age',shade= True)\n",
        "facet.set(xlim=(0, rose['Age'].max()))\n",
        "facet.add_legend()\n",
        "plt.xlim(40,50)"
      ],
      "execution_count": 736,
      "outputs": [
        {
          "output_type": "execute_result",
          "data": {
            "text/plain": [
              "(40.0, 50.0)"
            ]
          },
          "metadata": {
            "tags": []
          },
          "execution_count": 736
        },
        {
          "output_type": "display_data",
          "data": {
            "image/png": "[encoded data removed]",
            "text/plain": [
              "<Figure size 937.05x216 with 1 Axes>"
            ]
          },
          "metadata": {
            "tags": []
          }
        }
      ]
    },
    {
      "cell_type": "code",
      "metadata": {
        "colab": {
          "base_uri": "https://localhost:8080/",
          "height": 179
        },
        "id": "Ymw2NrC9GUDW",
        "outputId": "5bd9ea8b-fecc-4f0b-8b79-b6592cbd2176"
      },
      "source": [
        "facet = sns.FacetGrid(rose, hue=\"Preference\",aspect=4)\n",
        "facet.map(sns.kdeplot,'Age',shade= True)\n",
        "facet.set(xlim=(0, rose['Age'].max()))\n",
        "facet.add_legend()\n",
        "plt.xlim(50,60)"
      ],
      "execution_count": 737,
      "outputs": [
        {
          "output_type": "execute_result",
          "data": {
            "text/plain": [
              "(50.0, 60.0)"
            ]
          },
          "metadata": {
            "tags": []
          },
          "execution_count": 737
        },
        {
          "output_type": "display_data",
          "data": {
            "image/png": "[encoded data removed]",
            "text/plain": [
              "<Figure size 937.05x216 with 1 Axes>"
            ]
          },
          "metadata": {
            "tags": []
          }
        }
      ]
    },
    {
      "cell_type": "code",
      "metadata": {
        "id": "v5GiISIdPJed",
        "colab": {
          "base_uri": "https://localhost:8080/"
        },
        "outputId": "d5a70172-c683-42fb-a986-18aec111b366"
      },
      "source": [
        "rose['Age'].value_counts()"
      ],
      "execution_count": 738,
      "outputs": [
        {
          "output_type": "execute_result",
          "data": {
            "text/plain": [
              "23.0    67\n",
              "22.0    65\n",
              "21.0    38\n",
              "20.0    35\n",
              "24.0    27\n",
              "25.0    14\n",
              "29.0    10\n",
              "26.0     9\n",
              "19.0     8\n",
              "27.0     5\n",
              "28.0     5\n",
              "41.0     2\n",
              "42.0     2\n",
              "52.0     2\n",
              "18.0     2\n",
              "35.0     1\n",
              "Name: Age, dtype: int64"
            ]
          },
          "metadata": {
            "tags": []
          },
          "execution_count": 738
        }
      ]
    },
    {
      "cell_type": "code",
      "metadata": {
        "id": "QlwZhOlrvyIb"
      },
      "source": [
        "rose[\"Age\"].fillna(rose.groupby(\"Sex\")[\"Age\"].transform(\"median\"), inplace=True)"
      ],
      "execution_count": 739,
      "outputs": []
    },
    {
      "cell_type": "code",
      "metadata": {
        "colab": {
          "base_uri": "https://localhost:8080/"
        },
        "id": "KpXl2LX6v-rV",
        "outputId": "fa3a0107-9f9a-4f75-d086-337ae1627de7"
      },
      "source": [
        "rose.groupby(\"Sex\")[\"Age\"].transform(\"median\")"
      ],
      "execution_count": 740,
      "outputs": [
        {
          "output_type": "execute_result",
          "data": {
            "text/plain": [
              "0      23.0\n",
              "1      23.0\n",
              "2      22.0\n",
              "3      22.0\n",
              "4      22.0\n",
              "       ... \n",
              "300    22.0\n",
              "301    22.0\n",
              "302    22.0\n",
              "303    22.0\n",
              "304    23.0\n",
              "Name: Age, Length: 305, dtype: float64"
            ]
          },
          "metadata": {
            "tags": []
          },
          "execution_count": 740
        }
      ]
    },
    {
      "cell_type": "code",
      "metadata": {
        "colab": {
          "base_uri": "https://localhost:8080/"
        },
        "id": "J8UM9TYhJGBF",
        "outputId": "62f3a3c7-20c2-49a4-b51d-18db2be4ba6d"
      },
      "source": [
        "rose.isnull().sum()"
      ],
      "execution_count": 741,
      "outputs": [
        {
          "output_type": "execute_result",
          "data": {
            "text/plain": [
              "Name                  0\n",
              "Email                 0\n",
              "Age                   0\n",
              "Sex                   0\n",
              "Address               0\n",
              "Sim_Company           0\n",
              "Marital_Status        0\n",
              "Religion              0\n",
              "Occupation            0\n",
              "Preference            0\n",
              "Favourite_Flower      0\n",
              "Comments            244\n",
              "dtype: int64"
            ]
          },
          "metadata": {
            "tags": []
          },
          "execution_count": 741
        }
      ]
    },
    {
      "cell_type": "code",
      "metadata": {
        "id": "Ux_assp0PIsw"
      },
      "source": [
        "for dataset in rose_test_data:\n",
        "    dataset.loc[ dataset['Age'] <= 18, 'Age'] = 0\n",
        "    dataset.loc[(dataset['Age'] > 18) & (dataset['Age'] <= 21), 'Age'] = 1\n",
        "    dataset.loc[(dataset['Age'] > 21) & (dataset['Age'] <= 25), 'Age'] = 2\n",
        "    dataset.loc[(dataset['Age'] > 25) & (dataset['Age'] <= 35), 'Age'] = 3\n",
        "    dataset.loc[ dataset['Age'] > 35, 'Age'] = 4"
      ],
      "execution_count": 742,
      "outputs": []
    },
    {
      "cell_type": "code",
      "metadata": {
        "colab": {
          "base_uri": "https://localhost:8080/"
        },
        "id": "1HALEExLIGCL",
        "outputId": "ea25e5e9-3c96-4877-b25e-d3c2508b52f4"
      },
      "source": [
        "rose['Age'].value_counts()"
      ],
      "execution_count": 743,
      "outputs": [
        {
          "output_type": "execute_result",
          "data": {
            "text/plain": [
              "2.0    186\n",
              "1.0     81\n",
              "3.0     30\n",
              "4.0      6\n",
              "0.0      2\n",
              "Name: Age, dtype: int64"
            ]
          },
          "metadata": {
            "tags": []
          },
          "execution_count": 743
        }
      ]
    },
    {
      "cell_type": "code",
      "metadata": {
        "id": "YT-0XPLkPwNa",
        "colab": {
          "base_uri": "https://localhost:8080/",
          "height": 315
        },
        "outputId": "3a7ab0e3-3974-403e-8951-e2fb88733c5f"
      },
      "source": [
        "rose.head()"
      ],
      "execution_count": 744,
      "outputs": [
        {
          "output_type": "execute_result",
          "data": {
            "text/html": [
              "<div>\n",
              "<style scoped>\n",
              "    .dataframe tbody tr th:only-of-type {\n",
              "        vertical-align: middle;\n",
              "    }\n",
              "\n",
              "    .dataframe tbody tr th {\n",
              "        vertical-align: top;\n",
              "    }\n",
              "\n",
              "    .dataframe thead th {\n",
              "        text-align: right;\n",
              "    }\n",
              "</style>\n",
              "<table border=\"1\" class=\"dataframe\">\n",
              "  <thead>\n",
              "    <tr style=\"text-align: right;\">\n",
              "      <th></th>\n",
              "      <th>Name</th>\n",
              "      <th>Email</th>\n",
              "      <th>Age</th>\n",
              "      <th>Sex</th>\n",
              "      <th>Address</th>\n",
              "      <th>Sim_Company</th>\n",
              "      <th>Marital_Status</th>\n",
              "      <th>Religion</th>\n",
              "      <th>Occupation</th>\n",
              "      <th>Preference</th>\n",
              "      <th>Favourite_Flower</th>\n",
              "      <th>Comments</th>\n",
              "    </tr>\n",
              "  </thead>\n",
              "  <tbody>\n",
              "    <tr>\n",
              "      <th>0</th>\n",
              "      <td>Jahirul Islam</td>\n",
              "      <td>jahirul15-2752@diu.edu.bd</td>\n",
              "      <td>2.0</td>\n",
              "      <td>0</td>\n",
              "      <td>2</td>\n",
              "      <td>2</td>\n",
              "      <td>0</td>\n",
              "      <td>0</td>\n",
              "      <td>1</td>\n",
              "      <td>1</td>\n",
              "      <td>Zinnia</td>\n",
              "      <td>Go Ahead</td>\n",
              "    </tr>\n",
              "    <tr>\n",
              "      <th>1</th>\n",
              "      <td>Asif</td>\n",
              "      <td>asif15-2750@diu.edu.bd</td>\n",
              "      <td>2.0</td>\n",
              "      <td>0</td>\n",
              "      <td>1</td>\n",
              "      <td>1</td>\n",
              "      <td>0</td>\n",
              "      <td>0</td>\n",
              "      <td>1</td>\n",
              "      <td>1</td>\n",
              "      <td>Red Rose</td>\n",
              "      <td>NaN</td>\n",
              "    </tr>\n",
              "    <tr>\n",
              "      <th>2</th>\n",
              "      <td>Tasrin Jahan Mishu</td>\n",
              "      <td>tasrin15-2706@diu.edu.bd</td>\n",
              "      <td>1.0</td>\n",
              "      <td>1</td>\n",
              "      <td>2</td>\n",
              "      <td>1</td>\n",
              "      <td>0</td>\n",
              "      <td>0</td>\n",
              "      <td>1</td>\n",
              "      <td>1</td>\n",
              "      <td>White daisy</td>\n",
              "      <td>It was interesting</td>\n",
              "    </tr>\n",
              "    <tr>\n",
              "      <th>3</th>\n",
              "      <td>Nadia Rahman</td>\n",
              "      <td>nadia15-2763@diu.edu.bd</td>\n",
              "      <td>1.0</td>\n",
              "      <td>1</td>\n",
              "      <td>0</td>\n",
              "      <td>1</td>\n",
              "      <td>0</td>\n",
              "      <td>0</td>\n",
              "      <td>1</td>\n",
              "      <td>0</td>\n",
              "      <td>I Don't like flower</td>\n",
              "      <td>Thank you</td>\n",
              "    </tr>\n",
              "    <tr>\n",
              "      <th>4</th>\n",
              "      <td>Fatima yesmin</td>\n",
              "      <td>fatima15-1850@diu.edu.bd</td>\n",
              "      <td>2.0</td>\n",
              "      <td>1</td>\n",
              "      <td>3</td>\n",
              "      <td>1</td>\n",
              "      <td>0</td>\n",
              "      <td>0</td>\n",
              "      <td>1</td>\n",
              "      <td>1</td>\n",
              "      <td>Red Rose</td>\n",
              "      <td>Not yet</td>\n",
              "    </tr>\n",
              "  </tbody>\n",
              "</table>\n",
              "</div>"
            ],
            "text/plain": [
              "                  Name  ...             Comments\n",
              "0        Jahirul Islam  ...             Go Ahead\n",
              "1                 Asif  ...                  NaN\n",
              "2  Tasrin Jahan Mishu   ...  It was interesting \n",
              "3         Nadia Rahman  ...            Thank you\n",
              "4        Fatima yesmin  ...              Not yet\n",
              "\n",
              "[5 rows x 12 columns]"
            ]
          },
          "metadata": {
            "tags": []
          },
          "execution_count": 744
        }
      ]
    },
    {
      "cell_type": "code",
      "metadata": {
        "colab": {
          "base_uri": "https://localhost:8080/"
        },
        "id": "zHsB99OJJgyq",
        "outputId": "181ef57c-bf78-4833-aaba-758632181d5d"
      },
      "source": [
        "rose['Email'].value_counts()"
      ],
      "execution_count": 745,
      "outputs": [
        {
          "output_type": "execute_result",
          "data": {
            "text/plain": [
              "liza688@gmail.com           1\n",
              "nahar7677@gmail.com         1\n",
              "sadikul6318@gmail.com       1\n",
              "prity688@gmail.com          1\n",
              "saju84678@gmail.com         1\n",
              "                           ..\n",
              "rafsanrahul778@yahoo.com    1\n",
              "chowatasnim4@gmail.com      1\n",
              "sohan667@gmail.com          1\n",
              "robi48768@gmail.com         1\n",
              "shiplu24673@gmail.com       1\n",
              "Name: Email, Length: 305, dtype: int64"
            ]
          },
          "metadata": {
            "tags": []
          },
          "execution_count": 745
        }
      ]
    },
    {
      "cell_type": "code",
      "metadata": {
        "colab": {
          "base_uri": "https://localhost:8080/"
        },
        "id": "wvDlXvS7JmNs",
        "outputId": "06b8c0dd-ee6f-4aa2-a227-1f644a1a2d9a"
      },
      "source": [
        "rose.isnull().sum()"
      ],
      "execution_count": 746,
      "outputs": [
        {
          "output_type": "execute_result",
          "data": {
            "text/plain": [
              "Name                  0\n",
              "Email                 0\n",
              "Age                   0\n",
              "Sex                   0\n",
              "Address               0\n",
              "Sim_Company           0\n",
              "Marital_Status        0\n",
              "Religion              0\n",
              "Occupation            0\n",
              "Preference            0\n",
              "Favourite_Flower      0\n",
              "Comments            244\n",
              "dtype: int64"
            ]
          },
          "metadata": {
            "tags": []
          },
          "execution_count": 746
        }
      ]
    },
    {
      "cell_type": "code",
      "metadata": {
        "id": "dU08IPGGRpVN",
        "colab": {
          "base_uri": "https://localhost:8080/",
          "height": 315
        },
        "outputId": "dbaa6633-45b3-409e-c622-f823a9aad9c6"
      },
      "source": [
        "rose.head()"
      ],
      "execution_count": 747,
      "outputs": [
        {
          "output_type": "execute_result",
          "data": {
            "text/html": [
              "<div>\n",
              "<style scoped>\n",
              "    .dataframe tbody tr th:only-of-type {\n",
              "        vertical-align: middle;\n",
              "    }\n",
              "\n",
              "    .dataframe tbody tr th {\n",
              "        vertical-align: top;\n",
              "    }\n",
              "\n",
              "    .dataframe thead th {\n",
              "        text-align: right;\n",
              "    }\n",
              "</style>\n",
              "<table border=\"1\" class=\"dataframe\">\n",
              "  <thead>\n",
              "    <tr style=\"text-align: right;\">\n",
              "      <th></th>\n",
              "      <th>Name</th>\n",
              "      <th>Email</th>\n",
              "      <th>Age</th>\n",
              "      <th>Sex</th>\n",
              "      <th>Address</th>\n",
              "      <th>Sim_Company</th>\n",
              "      <th>Marital_Status</th>\n",
              "      <th>Religion</th>\n",
              "      <th>Occupation</th>\n",
              "      <th>Preference</th>\n",
              "      <th>Favourite_Flower</th>\n",
              "      <th>Comments</th>\n",
              "    </tr>\n",
              "  </thead>\n",
              "  <tbody>\n",
              "    <tr>\n",
              "      <th>0</th>\n",
              "      <td>Jahirul Islam</td>\n",
              "      <td>jahirul15-2752@diu.edu.bd</td>\n",
              "      <td>2.0</td>\n",
              "      <td>0</td>\n",
              "      <td>2</td>\n",
              "      <td>2</td>\n",
              "      <td>0</td>\n",
              "      <td>0</td>\n",
              "      <td>1</td>\n",
              "      <td>1</td>\n",
              "      <td>Zinnia</td>\n",
              "      <td>Go Ahead</td>\n",
              "    </tr>\n",
              "    <tr>\n",
              "      <th>1</th>\n",
              "      <td>Asif</td>\n",
              "      <td>asif15-2750@diu.edu.bd</td>\n",
              "      <td>2.0</td>\n",
              "      <td>0</td>\n",
              "      <td>1</td>\n",
              "      <td>1</td>\n",
              "      <td>0</td>\n",
              "      <td>0</td>\n",
              "      <td>1</td>\n",
              "      <td>1</td>\n",
              "      <td>Red Rose</td>\n",
              "      <td>NaN</td>\n",
              "    </tr>\n",
              "    <tr>\n",
              "      <th>2</th>\n",
              "      <td>Tasrin Jahan Mishu</td>\n",
              "      <td>tasrin15-2706@diu.edu.bd</td>\n",
              "      <td>1.0</td>\n",
              "      <td>1</td>\n",
              "      <td>2</td>\n",
              "      <td>1</td>\n",
              "      <td>0</td>\n",
              "      <td>0</td>\n",
              "      <td>1</td>\n",
              "      <td>1</td>\n",
              "      <td>White daisy</td>\n",
              "      <td>It was interesting</td>\n",
              "    </tr>\n",
              "    <tr>\n",
              "      <th>3</th>\n",
              "      <td>Nadia Rahman</td>\n",
              "      <td>nadia15-2763@diu.edu.bd</td>\n",
              "      <td>1.0</td>\n",
              "      <td>1</td>\n",
              "      <td>0</td>\n",
              "      <td>1</td>\n",
              "      <td>0</td>\n",
              "      <td>0</td>\n",
              "      <td>1</td>\n",
              "      <td>0</td>\n",
              "      <td>I Don't like flower</td>\n",
              "      <td>Thank you</td>\n",
              "    </tr>\n",
              "    <tr>\n",
              "      <th>4</th>\n",
              "      <td>Fatima yesmin</td>\n",
              "      <td>fatima15-1850@diu.edu.bd</td>\n",
              "      <td>2.0</td>\n",
              "      <td>1</td>\n",
              "      <td>3</td>\n",
              "      <td>1</td>\n",
              "      <td>0</td>\n",
              "      <td>0</td>\n",
              "      <td>1</td>\n",
              "      <td>1</td>\n",
              "      <td>Red Rose</td>\n",
              "      <td>Not yet</td>\n",
              "    </tr>\n",
              "  </tbody>\n",
              "</table>\n",
              "</div>"
            ],
            "text/plain": [
              "                  Name  ...             Comments\n",
              "0        Jahirul Islam  ...             Go Ahead\n",
              "1                 Asif  ...                  NaN\n",
              "2  Tasrin Jahan Mishu   ...  It was interesting \n",
              "3         Nadia Rahman  ...            Thank you\n",
              "4        Fatima yesmin  ...              Not yet\n",
              "\n",
              "[5 rows x 12 columns]"
            ]
          },
          "metadata": {
            "tags": []
          },
          "execution_count": 747
        }
      ]
    },
    {
      "cell_type": "code",
      "metadata": {
        "id": "JlseBHwN9Ow6",
        "colab": {
          "base_uri": "https://localhost:8080/"
        },
        "outputId": "a265123f-9762-4b5c-85d4-3793be4354f6"
      },
      "source": [
        "rose.isnull().sum()"
      ],
      "execution_count": 748,
      "outputs": [
        {
          "output_type": "execute_result",
          "data": {
            "text/plain": [
              "Name                  0\n",
              "Email                 0\n",
              "Age                   0\n",
              "Sex                   0\n",
              "Address               0\n",
              "Sim_Company           0\n",
              "Marital_Status        0\n",
              "Religion              0\n",
              "Occupation            0\n",
              "Preference            0\n",
              "Favourite_Flower      0\n",
              "Comments            244\n",
              "dtype: int64"
            ]
          },
          "metadata": {
            "tags": []
          },
          "execution_count": 748
        }
      ]
    },
    {
      "cell_type": "markdown",
      "metadata": {
        "id": "YRRsU66SYa_l"
      },
      "source": [
        "**Show**"
      ]
    },
    {
      "cell_type": "code",
      "metadata": {
        "colab": {
          "base_uri": "https://localhost:8080/"
        },
        "id": "Bd_TIXEbOLB6",
        "outputId": "0df14450-5d68-40b1-953f-930a39b3fbdd"
      },
      "source": [
        "rose['Comments'].head(305)"
      ],
      "execution_count": 749,
      "outputs": [
        {
          "output_type": "execute_result",
          "data": {
            "text/plain": [
              "0                 Go Ahead\n",
              "1                      NaN\n",
              "2      It was interesting \n",
              "3                Thank you\n",
              "4                  Not yet\n",
              "              ...         \n",
              "300                    NaN\n",
              "301                    NaN\n",
              "302                Nothing\n",
              "303                Nothing\n",
              "304              Thank you\n",
              "Name: Comments, Length: 305, dtype: object"
            ]
          },
          "metadata": {
            "tags": []
          },
          "execution_count": 749
        }
      ]
    },
    {
      "cell_type": "code",
      "metadata": {
        "colab": {
          "base_uri": "https://localhost:8080/"
        },
        "id": "t8PVSnGhOX7T",
        "outputId": "d5445f1f-e44b-48f1-8750-265de99b1842"
      },
      "source": [
        "rose['Comments'].fillna(\"Masha Allah\").head(305)"
      ],
      "execution_count": 750,
      "outputs": [
        {
          "output_type": "execute_result",
          "data": {
            "text/plain": [
              "0                 Go Ahead\n",
              "1              Masha Allah\n",
              "2      It was interesting \n",
              "3                Thank you\n",
              "4                  Not yet\n",
              "              ...         \n",
              "300            Masha Allah\n",
              "301            Masha Allah\n",
              "302                Nothing\n",
              "303                Nothing\n",
              "304              Thank you\n",
              "Name: Comments, Length: 305, dtype: object"
            ]
          },
          "metadata": {
            "tags": []
          },
          "execution_count": 750
        }
      ]
    },
    {
      "cell_type": "code",
      "metadata": {
        "colab": {
          "base_uri": "https://localhost:8080/"
        },
        "id": "cl_63tjp0EXm",
        "outputId": "5c21213e-0134-4a02-9833-9c078540f7a1"
      },
      "source": [
        "rose.isnull().sum()"
      ],
      "execution_count": 751,
      "outputs": [
        {
          "output_type": "execute_result",
          "data": {
            "text/plain": [
              "Name                  0\n",
              "Email                 0\n",
              "Age                   0\n",
              "Sex                   0\n",
              "Address               0\n",
              "Sim_Company           0\n",
              "Marital_Status        0\n",
              "Religion              0\n",
              "Occupation            0\n",
              "Preference            0\n",
              "Favourite_Flower      0\n",
              "Comments            244\n",
              "dtype: int64"
            ]
          },
          "metadata": {
            "tags": []
          },
          "execution_count": 751
        }
      ]
    },
    {
      "cell_type": "code",
      "metadata": {
        "colab": {
          "base_uri": "https://localhost:8080/",
          "height": 315
        },
        "id": "yveFC19tz_78",
        "outputId": "a2dbe7bb-1f4a-45ff-86a3-717010f6397c"
      },
      "source": [
        "rose.head()"
      ],
      "execution_count": 752,
      "outputs": [
        {
          "output_type": "execute_result",
          "data": {
            "text/html": [
              "<div>\n",
              "<style scoped>\n",
              "    .dataframe tbody tr th:only-of-type {\n",
              "        vertical-align: middle;\n",
              "    }\n",
              "\n",
              "    .dataframe tbody tr th {\n",
              "        vertical-align: top;\n",
              "    }\n",
              "\n",
              "    .dataframe thead th {\n",
              "        text-align: right;\n",
              "    }\n",
              "</style>\n",
              "<table border=\"1\" class=\"dataframe\">\n",
              "  <thead>\n",
              "    <tr style=\"text-align: right;\">\n",
              "      <th></th>\n",
              "      <th>Name</th>\n",
              "      <th>Email</th>\n",
              "      <th>Age</th>\n",
              "      <th>Sex</th>\n",
              "      <th>Address</th>\n",
              "      <th>Sim_Company</th>\n",
              "      <th>Marital_Status</th>\n",
              "      <th>Religion</th>\n",
              "      <th>Occupation</th>\n",
              "      <th>Preference</th>\n",
              "      <th>Favourite_Flower</th>\n",
              "      <th>Comments</th>\n",
              "    </tr>\n",
              "  </thead>\n",
              "  <tbody>\n",
              "    <tr>\n",
              "      <th>0</th>\n",
              "      <td>Jahirul Islam</td>\n",
              "      <td>jahirul15-2752@diu.edu.bd</td>\n",
              "      <td>2.0</td>\n",
              "      <td>0</td>\n",
              "      <td>2</td>\n",
              "      <td>2</td>\n",
              "      <td>0</td>\n",
              "      <td>0</td>\n",
              "      <td>1</td>\n",
              "      <td>1</td>\n",
              "      <td>Zinnia</td>\n",
              "      <td>Go Ahead</td>\n",
              "    </tr>\n",
              "    <tr>\n",
              "      <th>1</th>\n",
              "      <td>Asif</td>\n",
              "      <td>asif15-2750@diu.edu.bd</td>\n",
              "      <td>2.0</td>\n",
              "      <td>0</td>\n",
              "      <td>1</td>\n",
              "      <td>1</td>\n",
              "      <td>0</td>\n",
              "      <td>0</td>\n",
              "      <td>1</td>\n",
              "      <td>1</td>\n",
              "      <td>Red Rose</td>\n",
              "      <td>NaN</td>\n",
              "    </tr>\n",
              "    <tr>\n",
              "      <th>2</th>\n",
              "      <td>Tasrin Jahan Mishu</td>\n",
              "      <td>tasrin15-2706@diu.edu.bd</td>\n",
              "      <td>1.0</td>\n",
              "      <td>1</td>\n",
              "      <td>2</td>\n",
              "      <td>1</td>\n",
              "      <td>0</td>\n",
              "      <td>0</td>\n",
              "      <td>1</td>\n",
              "      <td>1</td>\n",
              "      <td>White daisy</td>\n",
              "      <td>It was interesting</td>\n",
              "    </tr>\n",
              "    <tr>\n",
              "      <th>3</th>\n",
              "      <td>Nadia Rahman</td>\n",
              "      <td>nadia15-2763@diu.edu.bd</td>\n",
              "      <td>1.0</td>\n",
              "      <td>1</td>\n",
              "      <td>0</td>\n",
              "      <td>1</td>\n",
              "      <td>0</td>\n",
              "      <td>0</td>\n",
              "      <td>1</td>\n",
              "      <td>0</td>\n",
              "      <td>I Don't like flower</td>\n",
              "      <td>Thank you</td>\n",
              "    </tr>\n",
              "    <tr>\n",
              "      <th>4</th>\n",
              "      <td>Fatima yesmin</td>\n",
              "      <td>fatima15-1850@diu.edu.bd</td>\n",
              "      <td>2.0</td>\n",
              "      <td>1</td>\n",
              "      <td>3</td>\n",
              "      <td>1</td>\n",
              "      <td>0</td>\n",
              "      <td>0</td>\n",
              "      <td>1</td>\n",
              "      <td>1</td>\n",
              "      <td>Red Rose</td>\n",
              "      <td>Not yet</td>\n",
              "    </tr>\n",
              "  </tbody>\n",
              "</table>\n",
              "</div>"
            ],
            "text/plain": [
              "                  Name  ...             Comments\n",
              "0        Jahirul Islam  ...             Go Ahead\n",
              "1                 Asif  ...                  NaN\n",
              "2  Tasrin Jahan Mishu   ...  It was interesting \n",
              "3         Nadia Rahman  ...            Thank you\n",
              "4        Fatima yesmin  ...              Not yet\n",
              "\n",
              "[5 rows x 12 columns]"
            ]
          },
          "metadata": {
            "tags": []
          },
          "execution_count": 752
        }
      ]
    },
    {
      "cell_type": "code",
      "metadata": {
        "id": "B4Uzsgcnp2Z_"
      },
      "source": [
        "features_drop = ['Name', 'Email', 'Favourite_Flower', 'Comments']\n",
        "rose = rose.drop(features_drop, axis=1)"
      ],
      "execution_count": 753,
      "outputs": []
    },
    {
      "cell_type": "code",
      "metadata": {
        "colab": {
          "base_uri": "https://localhost:8080/",
          "height": 194
        },
        "id": "H6T7d7zyp7EL",
        "outputId": "6d62a78c-8858-43b4-b4f7-6a0688e56abe"
      },
      "source": [
        "rose.head()"
      ],
      "execution_count": 754,
      "outputs": [
        {
          "output_type": "execute_result",
          "data": {
            "text/html": [
              "<div>\n",
              "<style scoped>\n",
              "    .dataframe tbody tr th:only-of-type {\n",
              "        vertical-align: middle;\n",
              "    }\n",
              "\n",
              "    .dataframe tbody tr th {\n",
              "        vertical-align: top;\n",
              "    }\n",
              "\n",
              "    .dataframe thead th {\n",
              "        text-align: right;\n",
              "    }\n",
              "</style>\n",
              "<table border=\"1\" class=\"dataframe\">\n",
              "  <thead>\n",
              "    <tr style=\"text-align: right;\">\n",
              "      <th></th>\n",
              "      <th>Age</th>\n",
              "      <th>Sex</th>\n",
              "      <th>Address</th>\n",
              "      <th>Sim_Company</th>\n",
              "      <th>Marital_Status</th>\n",
              "      <th>Religion</th>\n",
              "      <th>Occupation</th>\n",
              "      <th>Preference</th>\n",
              "    </tr>\n",
              "  </thead>\n",
              "  <tbody>\n",
              "    <tr>\n",
              "      <th>0</th>\n",
              "      <td>2.0</td>\n",
              "      <td>0</td>\n",
              "      <td>2</td>\n",
              "      <td>2</td>\n",
              "      <td>0</td>\n",
              "      <td>0</td>\n",
              "      <td>1</td>\n",
              "      <td>1</td>\n",
              "    </tr>\n",
              "    <tr>\n",
              "      <th>1</th>\n",
              "      <td>2.0</td>\n",
              "      <td>0</td>\n",
              "      <td>1</td>\n",
              "      <td>1</td>\n",
              "      <td>0</td>\n",
              "      <td>0</td>\n",
              "      <td>1</td>\n",
              "      <td>1</td>\n",
              "    </tr>\n",
              "    <tr>\n",
              "      <th>2</th>\n",
              "      <td>1.0</td>\n",
              "      <td>1</td>\n",
              "      <td>2</td>\n",
              "      <td>1</td>\n",
              "      <td>0</td>\n",
              "      <td>0</td>\n",
              "      <td>1</td>\n",
              "      <td>1</td>\n",
              "    </tr>\n",
              "    <tr>\n",
              "      <th>3</th>\n",
              "      <td>1.0</td>\n",
              "      <td>1</td>\n",
              "      <td>0</td>\n",
              "      <td>1</td>\n",
              "      <td>0</td>\n",
              "      <td>0</td>\n",
              "      <td>1</td>\n",
              "      <td>0</td>\n",
              "    </tr>\n",
              "    <tr>\n",
              "      <th>4</th>\n",
              "      <td>2.0</td>\n",
              "      <td>1</td>\n",
              "      <td>3</td>\n",
              "      <td>1</td>\n",
              "      <td>0</td>\n",
              "      <td>0</td>\n",
              "      <td>1</td>\n",
              "      <td>1</td>\n",
              "    </tr>\n",
              "  </tbody>\n",
              "</table>\n",
              "</div>"
            ],
            "text/plain": [
              "   Age  Sex  Address  ... Religion  Occupation  Preference\n",
              "0  2.0    0        2  ...        0           1           1\n",
              "1  2.0    0        1  ...        0           1           1\n",
              "2  1.0    1        2  ...        0           1           1\n",
              "3  1.0    1        0  ...        0           1           0\n",
              "4  2.0    1        3  ...        0           1           1\n",
              "\n",
              "[5 rows x 8 columns]"
            ]
          },
          "metadata": {
            "tags": []
          },
          "execution_count": 754
        }
      ]
    },
    {
      "cell_type": "markdown",
      "metadata": {
        "id": "IiLBurl1s_tC"
      },
      "source": [
        "#**Dividing the dataset**"
      ]
    },
    {
      "cell_type": "code",
      "metadata": {
        "colab": {
          "base_uri": "https://localhost:8080/"
        },
        "id": "4iVif_HLtEtW",
        "outputId": "b753b39f-10dc-47b8-9d99-dab7713f90cc"
      },
      "source": [
        "# (X_TRAIN->train_data, Y_TRAIN->target), X_TEST, Y_TEST\n",
        "rose_data = rose.drop('Preference', axis=1)     \n",
        "target = rose['Preference']\n",
        "\n",
        "rose_data.shape, target.shape"
      ],
      "execution_count": 755,
      "outputs": [
        {
          "output_type": "execute_result",
          "data": {
            "text/plain": [
              "((305, 7), (305,))"
            ]
          },
          "metadata": {
            "tags": []
          },
          "execution_count": 755
        }
      ]
    },
    {
      "cell_type": "markdown",
      "metadata": {
        "id": "OLsJvqejtcQh"
      },
      "source": [
        "#**Splitting the dataset into train and test data**"
      ]
    },
    {
      "cell_type": "code",
      "metadata": {
        "colab": {
          "base_uri": "https://localhost:8080/"
        },
        "id": "TtycFbr4tfEA",
        "outputId": "6003cf2f-6136-4aa8-9407-52a90fbed5e9"
      },
      "source": [
        "#Start Confusion Matrix Evaluation\n",
        "\n",
        "from sklearn.model_selection import train_test_split\n",
        "X_train, X_test, y_train, y_test = train_test_split(rose_data, target, test_size=.30, random_state=42)\n",
        "print(\"X_train: \", X_train.shape)\n",
        "print(\"X_test: \", X_test.shape)\n",
        "print(\"y_train: \", y_train.shape)\n",
        "print(\"y_test: \", y_test.shape)\n",
        "print(y_test)\n",
        "\n",
        "y_test.value_counts()"
      ],
      "execution_count": 757,
      "outputs": [
        {
          "output_type": "stream",
          "text": [
            "X_train:  (213, 7)\n",
            "X_test:  (92, 7)\n",
            "y_train:  (213,)\n",
            "y_test:  (92,)\n",
            "180    1\n",
            "154    1\n",
            "111    1\n",
            "247    1\n",
            "60     1\n",
            "      ..\n",
            "19     1\n",
            "144    0\n",
            "79     1\n",
            "251    0\n",
            "124    0\n",
            "Name: Preference, Length: 92, dtype: int64\n"
          ],
          "name": "stdout"
        },
        {
          "output_type": "execute_result",
          "data": {
            "text/plain": [
              "1    77\n",
              "0    15\n",
              "Name: Preference, dtype: int64"
            ]
          },
          "metadata": {
            "tags": []
          },
          "execution_count": 757
        }
      ]
    },
    {
      "cell_type": "markdown",
      "metadata": {
        "id": "x7bRySiPtvSY"
      },
      "source": [
        "#**Train the dataset**"
      ]
    },
    {
      "cell_type": "code",
      "metadata": {
        "id": "_u1jX77ztuxO"
      },
      "source": [
        "# Importing Classifier Modules\n",
        "from sklearn.tree import DecisionTreeClassifier\n",
        "from sklearn.ensemble import RandomForestClassifier\n",
        "\n",
        "dt = DecisionTreeClassifier()\n",
        "dt.fit(X_train, y_train)\n",
        "y_pred = dt.predict(X_test)"
      ],
      "execution_count": 758,
      "outputs": []
    },
    {
      "cell_type": "markdown",
      "metadata": {
        "id": "X0me4m9JuAuB"
      },
      "source": [
        "\n",
        "#**Performance evaluation**"
      ]
    },
    {
      "cell_type": "code",
      "metadata": {
        "colab": {
          "base_uri": "https://localhost:8080/"
        },
        "id": "BjWwDwkeuDaR",
        "outputId": "f9a5fc39-666c-40a9-bc1f-8bcbe442dd84"
      },
      "source": [
        "from sklearn.metrics import confusion_matrix,classification_report\n",
        "print(confusion_matrix(y_test, y_pred))\n",
        "print(classification_report(y_test,y_pred))"
      ],
      "execution_count": 759,
      "outputs": [
        {
          "output_type": "stream",
          "text": [
            "[[ 7  8]\n",
            " [ 6 71]]\n",
            "              precision    recall  f1-score   support\n",
            "\n",
            "           0       0.54      0.47      0.50        15\n",
            "           1       0.90      0.92      0.91        77\n",
            "\n",
            "    accuracy                           0.85        92\n",
            "   macro avg       0.72      0.69      0.71        92\n",
            "weighted avg       0.84      0.85      0.84        92\n",
            "\n"
          ],
          "name": "stdout"
        }
      ]
    },
    {
      "cell_type": "markdown",
      "metadata": {
        "id": "XS3JcNGEuJHR"
      },
      "source": [
        "#**Calculating accuracy**"
      ]
    },
    {
      "cell_type": "code",
      "metadata": {
        "colab": {
          "base_uri": "https://localhost:8080/"
        },
        "id": "SP0u_6VNuMWo",
        "outputId": "c137493a-cbc0-49c8-9fda-e42f1104d5c6"
      },
      "source": [
        "from sklearn.metrics import accuracy_score\n",
        "print(accuracy_score(y_test, y_pred))"
      ],
      "execution_count": 760,
      "outputs": [
        {
          "output_type": "stream",
          "text": [
            "0.8478260869565217\n"
          ],
          "name": "stdout"
        }
      ]
    }
  ]
}